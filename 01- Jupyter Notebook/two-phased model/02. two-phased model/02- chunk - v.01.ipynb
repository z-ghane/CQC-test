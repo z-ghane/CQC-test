{
 "cells": [
  {
   "cell_type": "markdown",
   "id": "0d47073d",
   "metadata": {},
   "source": [
    "# Set Variables"
   ]
  },
  {
   "cell_type": "code",
   "execution_count": 1,
   "id": "e2299f83",
   "metadata": {
    "ExecuteTime": {
     "end_time": "2022-05-10T12:22:33.812757Z",
     "start_time": "2022-05-10T12:22:33.785772Z"
    }
   },
   "outputs": [],
   "source": [
    "# -------- method: first\n",
    "# which_method = \"first\"\n",
    "which_method = \"second\"\n",
    "\n",
    "if which_method == \"second\":\n",
    "    top_k = 20\n",
    "\n",
    "\n",
    "# -------- method_way\n",
    "method_way = \"c\" # a, b, c\n",
    "\n",
    "if (method_way == \"a\" and which_method == \"second\"):\n",
    "    bug_localization_accuracy = [1] # main data - th\n",
    "\n",
    "if method_way == \"b\":\n",
    "    bug_localization_accuracy = [1] # main data - th\n",
    "\n",
    "if method_way == \"c\":\n",
    "    bug_localization_accuracy = [0.4, 0.5, 0.6, 0.7, 0.8]\n",
    "\n",
    "\n",
    "# -------- dataset\n",
    "# software_name = \"camel\"\n",
    "# software_name = \"cloudstack\"\n",
    "software_name = \"geode\"\n",
    "# software_name = \"HBase\"\n",
    "\n",
    "\n",
    "# -------- google colab\n",
    "# on_google_colab = True\n",
    "on_google_colab = False"
   ]
  },
  {
   "cell_type": "code",
   "execution_count": 2,
   "id": "23d324a1",
   "metadata": {
    "ExecuteTime": {
     "end_time": "2022-05-10T12:22:33.828770Z",
     "start_time": "2022-05-10T12:22:33.817754Z"
    }
   },
   "outputs": [],
   "source": [
    "bug_localization_accuracy\n",
    "number_of_chunks = 3"
   ]
  },
  {
   "cell_type": "markdown",
   "id": "26bb891f",
   "metadata": {},
   "source": [
    "# Google Colab"
   ]
  },
  {
   "cell_type": "code",
   "execution_count": 3,
   "id": "55696109",
   "metadata": {
    "ExecuteTime": {
     "end_time": "2022-05-10T12:22:33.844739Z",
     "start_time": "2022-05-10T12:22:33.831746Z"
    }
   },
   "outputs": [],
   "source": [
    "if software_name == \"camel\":\n",
    "    dataset_file_name = \"dataset_camel - v.01\"\n",
    "    dataset_file_name_ts = \"timeserAll_camel - v.01\"\n",
    "    number_of_chunks = 3\n",
    "    \n",
    "elif software_name == \"cloudstack\":\n",
    "    dataset_file_name = \"cloudstack_bugs - v.01\"\n",
    "    dataset_file_name_ts = \"cloudstack_TimeSeries - v.01\"\n",
    "    number_of_chunks = 8\n",
    "    \n",
    "elif software_name == \"geode\":\n",
    "    dataset_file_name = \"geode_Bug - v.01\"\n",
    "    dataset_file_name_ts = \"geode_TS - v.01\"\n",
    "    number_of_chunks = 4\n",
    "    \n",
    "else:\n",
    "    dataset_file_name = \"dataset_hbase - v.03\"\n",
    "    dataset_file_name_ts = \"timeserAll - v.03\"\n",
    "    number_of_chunks = 4"
   ]
  },
  {
   "cell_type": "code",
   "execution_count": 4,
   "id": "51121790",
   "metadata": {
    "ExecuteTime": {
     "end_time": "2022-05-10T12:22:33.876721Z",
     "start_time": "2022-05-10T12:22:33.849736Z"
    }
   },
   "outputs": [],
   "source": [
    "if on_google_colab:\n",
    "    \n",
    "    !pip install enlighten\n",
    "    !pip install --upgrade statsmodels \n",
    "    !pip install --upgrade matplotlib\n",
    "    \n",
    "    # load data from google drive\n",
    "    from google.colab import drive\n",
    "    drive.mount(\"/content/gdrive\", force_remount=True)\n",
    "    !ls \"/content/gdrive/My Drive/\"\n",
    "    \n",
    "    tempPre = \"gdrive/MyDrive/Colab Notebooks/paper/Indirect Method/\"\n",
    "    pre_path_data = tempPre + \"data/\" + software_name + \"/\"\n",
    "    \n",
    "    # you can choose one of these and comment out the other:\n",
    "    # pre_path_output = tempPre + \"output/\"\n",
    "    pre_path_output = tempPre + \"output/\" + dataset_file_name + \"/\" + which_method + \"/\"\n",
    "\n",
    "else:\n",
    "    tempPre =    \"E:/darsy/00/02- arshad/10- paper code/\"\n",
    "    tempData =   \"00- My Data/Datasets/Indirect Method/\"\n",
    "    tempOutput = \"01- Jupyter Notebook/InDirect Method/00. Output/\"\n",
    "    pre_path_data =   tempPre + tempData   + software_name + \"/\"\n",
    "    pre_path_output = tempPre + tempOutput + software_name + \"/\" + dataset_file_name + \"/\" + which_method + \"/\""
   ]
  },
  {
   "cell_type": "markdown",
   "id": "118f6982",
   "metadata": {},
   "source": [
    "# Libs"
   ]
  },
  {
   "cell_type": "code",
   "execution_count": 5,
   "id": "5bdc7cef",
   "metadata": {
    "ExecuteTime": {
     "end_time": "2022-05-10T12:22:34.858210Z",
     "start_time": "2022-05-10T12:22:33.880719Z"
    }
   },
   "outputs": [],
   "source": [
    "import pandas as pd\n",
    "import numpy as np"
   ]
  },
  {
   "cell_type": "markdown",
   "id": "cc8936fc",
   "metadata": {},
   "source": [
    "# Config"
   ]
  },
  {
   "cell_type": "code",
   "execution_count": 6,
   "id": "ddd594ac",
   "metadata": {
    "ExecuteTime": {
     "end_time": "2022-05-10T12:22:34.873212Z",
     "start_time": "2022-05-10T12:22:34.861211Z"
    }
   },
   "outputs": [],
   "source": [
    "if which_method == \"first\":\n",
    "    path_folder = pre_path_data + \"first/bla={}/\".format(\"{}\")\n",
    "    sub_chunck_file = \"{} _ bla={}.csv\".format(dataset_file_name, \"{}\")\n",
    "else:\n",
    "    path_folder = pre_path_data + \"second/k={}/bla={}/\".format(top_k, \"{}\")\n",
    "    sub_chunck_file = \"{} _ k={}, bla={}.csv\".format(dataset_file_name, top_k, \"{}\")\n",
    "\n",
    "mypaths = {\n",
    "    \"dataset_bla\": path_folder + sub_chunck_file\n",
    "}\n",
    "\n",
    "preprocessing_params = {\n",
    "    \"dataset\": {\n",
    "        # time_stamp is the time that we change the class for a bug fixing.\n",
    "        # id stands for identifier\n",
    "        \"columns_name\":   [\"bug_report_id\", \"class_id\", \"time_stamp\", \"label\"],\n",
    "        \"columns_dtype\" : {0: \"int64\", 1: \"int64\", 2: \"int64\", 3:\"int32\"}\n",
    "    }\n",
    "}"
   ]
  },
  {
   "cell_type": "markdown",
   "id": "d7c0931b",
   "metadata": {},
   "source": [
    "# Read Files"
   ]
  },
  {
   "cell_type": "markdown",
   "id": "4308be82",
   "metadata": {},
   "source": [
    "## df_data"
   ]
  },
  {
   "cell_type": "code",
   "execution_count": 7,
   "id": "2f2f87bc",
   "metadata": {
    "ExecuteTime": {
     "end_time": "2022-05-10T12:22:35.046195Z",
     "start_time": "2022-05-10T12:22:34.878202Z"
    }
   },
   "outputs": [
    {
     "name": "stdout",
     "output_type": "stream",
     "text": [
      "E:/darsy/00/02- arshad/10- paper code/00- My Data/Datasets/Indirect Method/geode/second/k=20/bla={}/geode_Bug - v.01 _ k=20, bla={}.csv\n",
      "0.4\n",
      "E:/darsy/00/02- arshad/10- paper code/00- My Data/Datasets/Indirect Method/geode/second/k=20/bla={}/geode_Bug - v.01 _ k=20, bla={}.csv\n",
      "0.5\n",
      "E:/darsy/00/02- arshad/10- paper code/00- My Data/Datasets/Indirect Method/geode/second/k=20/bla={}/geode_Bug - v.01 _ k=20, bla={}.csv\n",
      "0.6\n",
      "E:/darsy/00/02- arshad/10- paper code/00- My Data/Datasets/Indirect Method/geode/second/k=20/bla={}/geode_Bug - v.01 _ k=20, bla={}.csv\n",
      "0.7\n",
      "E:/darsy/00/02- arshad/10- paper code/00- My Data/Datasets/Indirect Method/geode/second/k=20/bla={}/geode_Bug - v.01 _ k=20, bla={}.csv\n",
      "0.8\n"
     ]
    }
   ],
   "source": [
    "df_data = {}\n",
    "\n",
    "for bla in bug_localization_accuracy:\n",
    "    print(mypaths[\"dataset_bla\"])\n",
    "    print(bla)\n",
    "    temp = pd.read_csv(\n",
    "        mypaths[\"dataset_bla\"].format(bla, bla), \n",
    "        names=preprocessing_params[\"dataset\"][\"columns_name\"], \n",
    "        dtype=preprocessing_params[\"dataset\"][\"columns_dtype\"], \n",
    "        header=None\n",
    "    )\n",
    "    df_data[bla] = temp"
   ]
  },
  {
   "cell_type": "code",
   "execution_count": 8,
   "id": "b40610cc",
   "metadata": {
    "ExecuteTime": {
     "end_time": "2022-05-10T12:22:35.110139Z",
     "start_time": "2022-05-10T12:22:35.050170Z"
    }
   },
   "outputs": [
    {
     "data": {
      "text/plain": [
       "{0.4:        bug_report_id  class_id  time_stamp  label\n",
       " 0              27758     90276  1582785511      0\n",
       " 1              27758    107081  1582785511      0\n",
       " 2              27758    114937  1582785511      0\n",
       " 3              27758    103283  1582785511      1\n",
       " 4              27758     82681  1582785511      0\n",
       " ...              ...       ...         ...    ...\n",
       " 28044          39606    114374  1435703450      0\n",
       " 28045          39606    113678  1435703450      0\n",
       " 28046          39606    115781  1435703450      0\n",
       " 28047          39606    113169  1435703450      0\n",
       " 28048          39606    118193  1435703450      0\n",
       " \n",
       " [28049 rows x 4 columns],\n",
       " 0.5:        bug_report_id  class_id  time_stamp  label\n",
       " 0              27760    116664  1582890005      0\n",
       " 1              27760     82753  1582890005      1\n",
       " 2              27760    112457  1582890005      1\n",
       " 3              27760    106501  1582890005      0\n",
       " 4              27760    106951  1582890005      0\n",
       " ...              ...       ...         ...    ...\n",
       " 28044          39620    112531  1435109369      0\n",
       " 28045          39620    115563  1435109369      0\n",
       " 28046          39620    114678  1435109369      0\n",
       " 28047          39620    112531  1435109761      0\n",
       " 28048          39623    114864  1434656000      0\n",
       " \n",
       " [28049 rows x 4 columns],\n",
       " 0.6:        bug_report_id  class_id  time_stamp  label\n",
       " 0              27762     87098  1582796413     -1\n",
       " 1              27763     96341  1582780141      0\n",
       " 2              27763     81074  1582780141      0\n",
       " 3              27763    102748  1582780141      1\n",
       " 4              27763    114477  1582780141      1\n",
       " ...              ...       ...         ...    ...\n",
       " 28044          39620    112531  1435109761      0\n",
       " 28045          39622    114566  1434766441      0\n",
       " 28046          39622    114589  1434766441      0\n",
       " 28047          39622    114541  1435080450      0\n",
       " 28048          39623    114864  1434656000      0\n",
       " \n",
       " [28049 rows x 4 columns],\n",
       " 0.7:        bug_report_id  class_id  time_stamp  label\n",
       " 0              27757     96937  1571429184      1\n",
       " 1              27757     94192  1575998237      0\n",
       " 2              27757     91106  1575998237      0\n",
       " 3              27757     96120  1575998237      0\n",
       " 4              27757     89077  1571429184     -1\n",
       " ...              ...       ...         ...    ...\n",
       " 28044          39606    113015  1435703450      0\n",
       " 28045          39606    115584  1435703450      0\n",
       " 28046          39622    114566  1434766441      0\n",
       " 28047          39622    114589  1434766441      0\n",
       " 28048          39622    114541  1435080450      0\n",
       " \n",
       " [28049 rows x 4 columns],\n",
       " 0.8:        bug_report_id  class_id  time_stamp  label\n",
       " 0              27758     83449  1582785511      0\n",
       " 1              27758     88740  1582785511      0\n",
       " 2              27758     91039  1582785511      0\n",
       " 3              27758    112110  1582785511      1\n",
       " 4              27758     89995  1582785511      0\n",
       " ...              ...       ...         ...    ...\n",
       " 28044          39606    113784  1435703450      0\n",
       " 28045          39622    114566  1434766441      0\n",
       " 28046          39622    114589  1434766441      0\n",
       " 28047          39622    114541  1435080450      0\n",
       " 28048          39623    114864  1434656000      0\n",
       " \n",
       " [28049 rows x 4 columns]}"
      ]
     },
     "execution_count": 8,
     "metadata": {},
     "output_type": "execute_result"
    }
   ],
   "source": [
    "df_data"
   ]
  },
  {
   "cell_type": "markdown",
   "id": "58eee8bd",
   "metadata": {},
   "source": [
    "# save"
   ]
  },
  {
   "cell_type": "code",
   "execution_count": 10,
   "id": "a6948960",
   "metadata": {
    "ExecuteTime": {
     "end_time": "2022-05-10T12:24:14.767080Z",
     "start_time": "2022-05-10T12:24:14.154335Z"
    }
   },
   "outputs": [
    {
     "name": "stdout",
     "output_type": "stream",
     "text": [
      "---------- 0.4 ----------\n",
      "number of brid:     3610\n",
      "number of samples:  28049\n",
      "**********\n",
      "number of sub samples:  7013\n",
      "number of sub samples:  7012\n",
      "number of sub samples:  7012\n",
      "number of sub samples:  7012\n",
      "\n",
      "---------- 0.5 ----------\n",
      "number of brid:     3610\n",
      "number of samples:  28049\n",
      "**********\n",
      "number of sub samples:  7013\n",
      "number of sub samples:  7012\n",
      "number of sub samples:  7012\n",
      "number of sub samples:  7012\n",
      "\n",
      "---------- 0.6 ----------\n",
      "number of brid:     3610\n",
      "number of samples:  28049\n",
      "**********\n",
      "number of sub samples:  7013\n",
      "number of sub samples:  7012\n",
      "number of sub samples:  7012\n",
      "number of sub samples:  7012\n",
      "\n",
      "---------- 0.7 ----------\n",
      "number of brid:     3610\n",
      "number of samples:  28049\n",
      "**********\n",
      "number of sub samples:  7013\n",
      "number of sub samples:  7012\n",
      "number of sub samples:  7012\n",
      "number of sub samples:  7012\n",
      "\n",
      "---------- 0.8 ----------\n",
      "number of brid:     3610\n",
      "number of samples:  28049\n",
      "**********\n",
      "number of sub samples:  7013\n",
      "number of sub samples:  7012\n",
      "number of sub samples:  7012\n",
      "number of sub samples:  7012\n",
      "\n"
     ]
    }
   ],
   "source": [
    "for bla, df in df_data.items():\n",
    "    print(\"-\" * 10, bla , \"-\" * 10)\n",
    "    print(\"number of brid:    \", len(df.groupby(\"bug_report_id\")))\n",
    "    print(\"number of samples: \", len(df))\n",
    "    \n",
    "    my_path = path_folder.format(bla)\n",
    "    print(\"*\" * 10)\n",
    "    for j, sub_df_j in enumerate(np.array_split(df, number_of_chunks)):\n",
    "        if which_method == \"first\":\n",
    "            sub_my_file_name =  \"{} _ bla={} - {}.csv\".format(dataset_file_name, bla, j)\n",
    "        else:\n",
    "            sub_my_file_name =  \"{} _ k={}, bla={} - {}.csv\".format(dataset_file_name, top_k, bla, j)\n",
    "        \n",
    "        sub_full_path = my_path + sub_my_file_name\n",
    "        sub_df_j.to_csv(sub_full_path, header=False, index=False)\n",
    "        print(\"number of sub samples: \", len(sub_df_j))\n",
    "    print()"
   ]
  },
  {
   "cell_type": "code",
   "execution_count": null,
   "id": "41d86920",
   "metadata": {},
   "outputs": [],
   "source": []
  }
 ],
 "metadata": {
  "kernelspec": {
   "display_name": "paper-pytorch-cpu_jn",
   "language": "python",
   "name": "paper-pytorch-cpu_jn"
  },
  "language_info": {
   "codemirror_mode": {
    "name": "ipython",
    "version": 3
   },
   "file_extension": ".py",
   "mimetype": "text/x-python",
   "name": "python",
   "nbconvert_exporter": "python",
   "pygments_lexer": "ipython3",
   "version": "3.7.11"
  },
  "toc": {
   "base_numbering": 1,
   "nav_menu": {},
   "number_sections": false,
   "sideBar": true,
   "skip_h1_title": false,
   "title_cell": "Table of Contents",
   "title_sidebar": "Contents",
   "toc_cell": false,
   "toc_position": {
    "height": "calc(100% - 180px)",
    "left": "10px",
    "top": "150px",
    "width": "226.188px"
   },
   "toc_section_display": true,
   "toc_window_display": true
  }
 },
 "nbformat": 4,
 "nbformat_minor": 5
}
