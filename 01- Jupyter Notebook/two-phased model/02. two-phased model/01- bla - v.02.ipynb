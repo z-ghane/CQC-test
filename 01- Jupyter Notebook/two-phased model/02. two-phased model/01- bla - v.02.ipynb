{
 "cells": [
  {
   "cell_type": "markdown",
   "id": "0d47073d",
   "metadata": {},
   "source": [
    "# Set Variables"
   ]
  },
  {
   "cell_type": "code",
   "execution_count": 1,
   "id": "e2299f83",
   "metadata": {
    "ExecuteTime": {
     "end_time": "2022-05-10T12:17:51.906791Z",
     "start_time": "2022-05-10T12:17:51.871811Z"
    }
   },
   "outputs": [],
   "source": [
    "# -------- method: first\n",
    "# which_method = \"first\"\n",
    "which_method = \"second\"\n",
    "\n",
    "if which_method == \"second\":\n",
    "    top_k = 20\n",
    "\n",
    "\n",
    "# -------- method_way\n",
    "method_way = \"c\" # a, b, c\n",
    "\n",
    "if (method_way == \"a\" and which_method == \"second\"):\n",
    "    bug_localization_accuracy = [1] # main data - th\n",
    "\n",
    "if method_way == \"b\":\n",
    "    bug_localization_accuracy = [1] # main data - th\n",
    "\n",
    "if method_way == \"c\":\n",
    "    bug_localization_accuracy = [0.4, 0.5, 0.6, 0.7, 0.8]\n",
    "\n",
    "\n",
    "# -------- dataset\n",
    "# software_name = \"camel\"\n",
    "# software_name = \"cloudstack\"\n",
    "software_name = \"geode\"\n",
    "# software_name = \"HBase\"\n",
    "\n",
    "\n",
    "# -------- google colab\n",
    "# on_google_colab = True\n",
    "on_google_colab = False"
   ]
  },
  {
   "cell_type": "markdown",
   "id": "26bb891f",
   "metadata": {},
   "source": [
    "# Google Colab"
   ]
  },
  {
   "cell_type": "code",
   "execution_count": 2,
   "id": "55696109",
   "metadata": {
    "ExecuteTime": {
     "end_time": "2022-05-10T12:17:51.924781Z",
     "start_time": "2022-05-10T12:17:51.910790Z"
    }
   },
   "outputs": [],
   "source": [
    "if software_name == \"camel\":\n",
    "    dataset_file_name = \"dataset_camel - v.01\"\n",
    "    dataset_file_name_ts = \"timeserAll_camel - v.01\"\n",
    "    \n",
    "elif software_name == \"cloudstack\":\n",
    "    dataset_file_name = \"cloudstack_bugs - v.01\"\n",
    "    dataset_file_name_ts = \"cloudstack_TimeSeries - v.01\"\n",
    "    \n",
    "elif software_name == \"geode\":\n",
    "    dataset_file_name = \"geode_Bug - v.01\"\n",
    "    dataset_file_name_ts = \"geode_TS - v.01\"\n",
    "    \n",
    "else:\n",
    "    dataset_file_name = \"dataset_hbase - v.03\"\n",
    "    dataset_file_name_ts = \"timeserAll - v.03\""
   ]
  },
  {
   "cell_type": "code",
   "execution_count": 3,
   "id": "51121790",
   "metadata": {
    "ExecuteTime": {
     "end_time": "2022-05-10T12:17:51.985746Z",
     "start_time": "2022-05-10T12:17:51.929778Z"
    }
   },
   "outputs": [],
   "source": [
    "if on_google_colab:\n",
    "    \n",
    "    !pip install enlighten\n",
    "    !pip install --upgrade statsmodels \n",
    "    !pip install --upgrade matplotlib\n",
    "    \n",
    "    # load data from google drive\n",
    "    from google.colab import drive\n",
    "    drive.mount(\"/content/gdrive\", force_remount=True)\n",
    "    !ls \"/content/gdrive/My Drive/\"\n",
    "    \n",
    "    tempPre = \"gdrive/MyDrive/Colab Notebooks/paper/Indirect Method/\"\n",
    "    pre_path_data = tempPre + \"data/\" + software_name + \"/\"\n",
    "    \n",
    "    # you can choose one of these and comment out the other:\n",
    "    # pre_path_output = tempPre + \"output/\"\n",
    "    pre_path_output = tempPre + \"output/\" + dataset_file_name + \"/\" + which_method + \"/\"\n",
    "\n",
    "else:\n",
    "    tempPre =    \"E:/darsy/00/02- arshad/10- paper code/\"\n",
    "    tempData =   \"00- My Data/Datasets/Indirect Method/\"\n",
    "    tempOutput = \"01- Jupyter Notebook/InDirect Method/00. Output/\"\n",
    "    pre_path_data =   tempPre + tempData   + software_name + \"/\"\n",
    "    pre_path_output = tempPre + tempOutput + software_name + \"/\" + dataset_file_name + \"/\" + which_method + \"/\""
   ]
  },
  {
   "cell_type": "markdown",
   "id": "118f6982",
   "metadata": {},
   "source": [
    "# Libs"
   ]
  },
  {
   "cell_type": "code",
   "execution_count": 4,
   "id": "5bdc7cef",
   "metadata": {
    "ExecuteTime": {
     "end_time": "2022-05-10T12:17:52.884211Z",
     "start_time": "2022-05-10T12:17:51.992742Z"
    }
   },
   "outputs": [],
   "source": [
    "import random\n",
    "\n",
    "import pandas as pd"
   ]
  },
  {
   "cell_type": "markdown",
   "id": "cc8936fc",
   "metadata": {},
   "source": [
    "# Config"
   ]
  },
  {
   "cell_type": "code",
   "execution_count": 5,
   "id": "ddd594ac",
   "metadata": {
    "ExecuteTime": {
     "end_time": "2022-05-10T12:17:52.901206Z",
     "start_time": "2022-05-10T12:17:52.888213Z"
    }
   },
   "outputs": [],
   "source": [
    "mypaths = {\n",
    "    \"dataset\": pre_path_data + dataset_file_name + \".csv\"\n",
    "}\n",
    "\n",
    "preprocessing_params = {\n",
    "    \"dataset\": {\n",
    "        # time_stamp is the time that we change the class for a bug fixing.\n",
    "        # id stands for identifier\n",
    "        \"columns_name\":   [\"bug_report_id\", \"class_id\", \"time_stamp\", \"label\"],\n",
    "        \"columns_dtype\" : {0: \"int64\", 1: \"int64\", 2: \"int64\", 3:\"int32\"}\n",
    "    }\n",
    "}\n",
    "\n",
    "if which_method == \"second\":\n",
    "    preprocessing_params[\"top_k\"] = top_k"
   ]
  },
  {
   "cell_type": "code",
   "execution_count": 6,
   "id": "945a3c77",
   "metadata": {
    "ExecuteTime": {
     "end_time": "2022-05-10T12:17:52.946180Z",
     "start_time": "2022-05-10T12:17:52.906205Z"
    }
   },
   "outputs": [
    {
     "data": {
      "text/plain": [
       "[0.4, 0.5, 0.6, 0.7, 0.8]"
      ]
     },
     "execution_count": 6,
     "metadata": {},
     "output_type": "execute_result"
    }
   ],
   "source": [
    "bug_localization_accuracy"
   ]
  },
  {
   "cell_type": "markdown",
   "id": "d7c0931b",
   "metadata": {},
   "source": [
    "# Read Files"
   ]
  },
  {
   "cell_type": "code",
   "execution_count": 7,
   "id": "47c65095",
   "metadata": {
    "ExecuteTime": {
     "end_time": "2022-05-10T12:17:53.341952Z",
     "start_time": "2022-05-10T12:17:52.949178Z"
    }
   },
   "outputs": [],
   "source": [
    "df_main = pd.read_csv(\n",
    "    mypaths[\"dataset\"], \n",
    "    names=preprocessing_params[\"dataset\"][\"columns_name\"], \n",
    "    dtype=preprocessing_params[\"dataset\"][\"columns_dtype\"], \n",
    "    header=None\n",
    ")"
   ]
  },
  {
   "cell_type": "markdown",
   "id": "09155ead",
   "metadata": {},
   "source": [
    "# MyDataset"
   ]
  },
  {
   "cell_type": "code",
   "execution_count": 8,
   "id": "085569ee",
   "metadata": {
    "ExecuteTime": {
     "end_time": "2022-05-10T12:17:53.389929Z",
     "start_time": "2022-05-10T12:17:53.344950Z"
    }
   },
   "outputs": [],
   "source": [
    "class MyDatasetFirst():\n",
    "    \n",
    "    def __init__(self, df_main, bug_localization_accuracy):\n",
    "        self.df_main = df_main.copy()\n",
    "        self.bla = bug_localization_accuracy\n",
    "        \n",
    "        self.df_data = {} # [df1-bla[0], df2-bla[1], ...]\n",
    "        self.cIDs = None\n",
    "        self.brIDs_num_ft = {} # {\"0.50\": {\"true\": 400, \"false\":50}, ...}\n",
    "        self.brIDs_num_total = None\n",
    "        \n",
    "        # ----------------- Read File & initialize brIDs_num_ft\n",
    "        for bla in bug_localization_accuracy:\n",
    "            tempDF = df_main.copy()\n",
    "            self.df_data[bla] = tempDF\n",
    "            \n",
    "            self.brIDs_num_ft[bla] = {\n",
    "                \"true\": None,\n",
    "                \"false\": None\n",
    "            }\n",
    "            \n",
    "        \n",
    "        self.cIDs = set(self.df_main[\"class_id\"].to_list()) # cIDs: class ids\n",
    "    \n",
    "    \n",
    "    # brids: bug report ids\n",
    "    # cids: class ids\n",
    "    def select_brids_replace_cids(self):\n",
    "        \n",
    "        # -------- select_bug_reports\n",
    "        # randomly select bug reports whose class ids will be replaced\n",
    "        dfg_brIDs = self.df_main.groupby(\"bug_report_id\") # brIDs: bug report ids\n",
    "        self.brIDs_num_total = len(dfg_brIDs) # number of bug reports\n",
    "        brIDs = list(dfg_brIDs.groups.keys())\n",
    "\n",
    "        for bla in self.bla:\n",
    "            bla_false = 1 - bla\n",
    "            self.brIDs_num_ft[bla][\"false\"] = round(self.brIDs_num_total * bla_false)\n",
    "            self.brIDs_num_ft[bla][\"true\"] = self.brIDs_num_total - self.brIDs_num_ft[bla][\"false\"]\n",
    "            # selects elements without replacement\n",
    "            brIDs_false = random.sample(brIDs, self.brIDs_num_ft[bla][\"false\"])\n",
    "            \n",
    "            df_brIDs_false = dfg_brIDs.filter(lambda g: brIDs_false.count(g.name) > 0)\n",
    "            \n",
    "            # -------- replace_class_ids\n",
    "            df_brIDs_false.groupby(\"bug_report_id\").apply(lambda g: self.replacement_false_(g, bla))\n",
    "    \n",
    "    \n",
    "    def replacement_false_(self, g, bla):\n",
    "        cIDs_true = set(g[\"class_id\"].to_list()) # t_cids: true  cids\n",
    "        cIDs_false = list(self.cIDs - cIDs_true)  # f_cids: false cids\n",
    "        # selects elements that can be duplicated\n",
    "        cIDs_false_selected = random.choices(cIDs_false, k=len(g))\n",
    "        self.df_data[bla].loc[g.index, \"class_id\"] = cIDs_false_selected\n",
    "    \n",
    "    \n",
    "    def free_memory(self):\n",
    "        self.df_main = None\n",
    "        self.cIDs = None"
   ]
  },
  {
   "cell_type": "code",
   "execution_count": 9,
   "id": "000a5241",
   "metadata": {
    "ExecuteTime": {
     "end_time": "2022-05-10T12:17:53.468895Z",
     "start_time": "2022-05-10T12:17:53.395921Z"
    }
   },
   "outputs": [],
   "source": [
    "class MyDatasetSecond():\n",
    "    \n",
    "    def __init__(self, df_main, columns_name, columns_dtype, bug_localization_accuracy, top_k=5):\n",
    "        self.df_main = df_main.copy()\n",
    "        self.bla = bug_localization_accuracy\n",
    "        self.top_k = top_k\n",
    "        \n",
    "        self.cIDs = set(self.df_main[\"class_id\"].to_list()) # cIDs: class ids\n",
    "        \n",
    "        self.df_data = {} # [df1, df2, ...]\n",
    "        self.brIDs_num_ft = {} # {\"0.50\": {\"true\": 400, \"false\":50}, ...}\n",
    "        self.brIDs_num_total = None\n",
    "        \n",
    "        for bla in self.bla:\n",
    "            temp = {}\n",
    "            for cn, cd in zip(columns_name, columns_dtype.values()):\n",
    "                temp[cn] = pd.Series(dtype=cd)\n",
    "            tempEmptyDF = pd.DataFrame(temp)\n",
    "            self.df_data[bla] = tempEmptyDF\n",
    "            \n",
    "            self.brIDs_num_ft[bla] = {\n",
    "                \"true\": None,\n",
    "                \"false\": None\n",
    "            }\n",
    "    \n",
    "    \n",
    "    # brids: bug report ids\n",
    "    # cids: class ids\n",
    "    def select_brids_replace_cids(self):\n",
    "        \n",
    "        # -------- select_bug_reports\n",
    "        # randomly select bug reports whose class ids will be replaced\n",
    "        dfg_brIDs = self.df_main.groupby(\"bug_report_id\") # brIDs: bug report ids\n",
    "        self.brIDs_num_total = len(dfg_brIDs) # number of bug reports\n",
    "        brIDs = list(dfg_brIDs.groups.keys())\n",
    "        \n",
    "        for i, bla in enumerate(self.bla):\n",
    "            bla_false = 1 - bla\n",
    "            self.brIDs_num_ft[bla][\"false\"] = round(self.brIDs_num_total * bla_false)\n",
    "            self.brIDs_num_ft[bla][\"true\"] = self.brIDs_num_total - self.brIDs_num_ft[bla][\"false\"]\n",
    "            # random.sample: selects elements without replacement\n",
    "            brIDs_false = random.sample(brIDs, self.brIDs_num_ft[bla][\"false\"])\n",
    "            \n",
    "            df_brIDs_false = dfg_brIDs.filter(lambda g: brIDs_false.count(g.name) > 0)\n",
    "            df_brIDs_false.groupby(\"bug_report_id\").apply(lambda g: self.replacement_false_(g, bla))\n",
    "            \n",
    "            df_brIDs_true = dfg_brIDs.filter(lambda g: brIDs_false.count(g.name) == 0)\n",
    "            df_brIDs_true.groupby(\"bug_report_id\").apply(lambda g: self.replacement_true_(g, bla))\n",
    "    \n",
    "    \n",
    "    def replacement_false_(self, g, bla):\n",
    "        bug_cids_true = g[\"class_id\"].to_list()\n",
    "        num_bug_cids_true = len(bug_cids_true)\n",
    "        bug_cids_true_set = set(bug_cids_true)\n",
    "        bug_cids_false = list(self.cIDs - bug_cids_true_set)\n",
    "        if num_bug_cids_true >= self.top_k:\n",
    "            # random.choices: selects elements that can be duplicated\n",
    "            bug_cids_false_selected = random.choices(bug_cids_false, k=self.top_k)\n",
    "            bug_cids_index = random.sample(list(range(num_bug_cids_true)), k=self.top_k)\n",
    "            temp = self.df_main.loc[g.index[bug_cids_index], :].copy()\n",
    "            temp[\"class_id\"] = bug_cids_false_selected\n",
    "        else:\n",
    "            bug_cids_false_selected = random.choices(bug_cids_false, k=num_bug_cids_true)\n",
    "            temp = self.df_main.loc[g.index, :].copy()\n",
    "            temp[\"class_id\"] = bug_cids_false_selected\n",
    "            \n",
    "        self.df_data[bla] = self.df_data[bla].append(temp, ignore_index = True)\n",
    "    \n",
    "    \n",
    "    def replacement_true_(self, g, bla):\n",
    "        bug_cids_true = g[\"class_id\"].to_list()\n",
    "        num_bug_cids_true = len(bug_cids_true)\n",
    "        if num_bug_cids_true >= self.top_k:\n",
    "            bug_cids_index = random.sample(list(range(num_bug_cids_true)), k=self.top_k)\n",
    "            temp = self.df_main.loc[g.index[bug_cids_index], :].copy()\n",
    "        else:\n",
    "            temp = self.df_main.loc[g.index, :].copy()\n",
    "            \n",
    "        self.df_data[bla] = self.df_data[bla].append(temp, ignore_index = True)\n",
    "    \n",
    "    def free_memory(self):\n",
    "        self.df_main = None\n",
    "        self.cIDs = None"
   ]
  },
  {
   "cell_type": "markdown",
   "id": "dd95a812",
   "metadata": {},
   "source": [
    "## obj"
   ]
  },
  {
   "cell_type": "code",
   "execution_count": 10,
   "id": "107b7391",
   "metadata": {
    "ExecuteTime": {
     "end_time": "2022-05-10T12:17:53.561841Z",
     "start_time": "2022-05-10T12:17:53.475890Z"
    }
   },
   "outputs": [
    {
     "name": "stdout",
     "output_type": "stream",
     "text": [
      "second\n"
     ]
    }
   ],
   "source": [
    "if which_method == \"first\":\n",
    "    print(\"first\")\n",
    "    md = MyDatasetFirst(\n",
    "        df_main.copy(),\n",
    "        bug_localization_accuracy\n",
    "    )\n",
    "\n",
    "else:\n",
    "    print(\"second\")\n",
    "    md = MyDatasetSecond(\n",
    "        df_main.copy(),\n",
    "        preprocessing_params[\"dataset\"][\"columns_name\"], \n",
    "        preprocessing_params[\"dataset\"][\"columns_dtype\"],\n",
    "        bug_localization_accuracy,\n",
    "        top_k=preprocessing_params[\"top_k\"]\n",
    "    )"
   ]
  },
  {
   "cell_type": "code",
   "execution_count": 11,
   "id": "ff24ebb7",
   "metadata": {
    "ExecuteTime": {
     "end_time": "2022-05-10T12:18:37.913404Z",
     "start_time": "2022-05-10T12:17:53.564838Z"
    }
   },
   "outputs": [],
   "source": [
    "md.select_brids_replace_cids()\n",
    "md.free_memory()"
   ]
  },
  {
   "cell_type": "code",
   "execution_count": 12,
   "id": "5bb3ce9a",
   "metadata": {
    "ExecuteTime": {
     "end_time": "2022-05-10T12:18:37.979311Z",
     "start_time": "2022-05-10T12:18:37.916345Z"
    }
   },
   "outputs": [
    {
     "data": {
      "text/plain": [
       "{0.4:        bug_report_id  class_id  time_stamp  label\n",
       " 0              27758     90276  1582785511      0\n",
       " 1              27758    107081  1582785511      0\n",
       " 2              27758    114937  1582785511      0\n",
       " 3              27758    103283  1582785511      1\n",
       " 4              27758     82681  1582785511      0\n",
       " ...              ...       ...         ...    ...\n",
       " 28044          39606    114374  1435703450      0\n",
       " 28045          39606    113678  1435703450      0\n",
       " 28046          39606    115781  1435703450      0\n",
       " 28047          39606    113169  1435703450      0\n",
       " 28048          39606    118193  1435703450      0\n",
       " \n",
       " [28049 rows x 4 columns],\n",
       " 0.5:        bug_report_id  class_id  time_stamp  label\n",
       " 0              27760    116664  1582890005      0\n",
       " 1              27760     82753  1582890005      1\n",
       " 2              27760    112457  1582890005      1\n",
       " 3              27760    106501  1582890005      0\n",
       " 4              27760    106951  1582890005      0\n",
       " ...              ...       ...         ...    ...\n",
       " 28044          39620    112531  1435109369      0\n",
       " 28045          39620    115563  1435109369      0\n",
       " 28046          39620    114678  1435109369      0\n",
       " 28047          39620    112531  1435109761      0\n",
       " 28048          39623    114864  1434656000      0\n",
       " \n",
       " [28049 rows x 4 columns],\n",
       " 0.6:        bug_report_id  class_id  time_stamp  label\n",
       " 0              27762     87098  1582796413     -1\n",
       " 1              27763     96341  1582780141      0\n",
       " 2              27763     81074  1582780141      0\n",
       " 3              27763    102748  1582780141      1\n",
       " 4              27763    114477  1582780141      1\n",
       " ...              ...       ...         ...    ...\n",
       " 28044          39620    112531  1435109761      0\n",
       " 28045          39622    114566  1434766441      0\n",
       " 28046          39622    114589  1434766441      0\n",
       " 28047          39622    114541  1435080450      0\n",
       " 28048          39623    114864  1434656000      0\n",
       " \n",
       " [28049 rows x 4 columns],\n",
       " 0.7:        bug_report_id  class_id  time_stamp  label\n",
       " 0              27757     96937  1571429184      1\n",
       " 1              27757     94192  1575998237      0\n",
       " 2              27757     91106  1575998237      0\n",
       " 3              27757     96120  1575998237      0\n",
       " 4              27757     89077  1571429184     -1\n",
       " ...              ...       ...         ...    ...\n",
       " 28044          39606    113015  1435703450      0\n",
       " 28045          39606    115584  1435703450      0\n",
       " 28046          39622    114566  1434766441      0\n",
       " 28047          39622    114589  1434766441      0\n",
       " 28048          39622    114541  1435080450      0\n",
       " \n",
       " [28049 rows x 4 columns],\n",
       " 0.8:        bug_report_id  class_id  time_stamp  label\n",
       " 0              27758     83449  1582785511      0\n",
       " 1              27758     88740  1582785511      0\n",
       " 2              27758     91039  1582785511      0\n",
       " 3              27758    112110  1582785511      1\n",
       " 4              27758     89995  1582785511      0\n",
       " ...              ...       ...         ...    ...\n",
       " 28044          39606    113784  1435703450      0\n",
       " 28045          39622    114566  1434766441      0\n",
       " 28046          39622    114589  1434766441      0\n",
       " 28047          39622    114541  1435080450      0\n",
       " 28048          39623    114864  1434656000      0\n",
       " \n",
       " [28049 rows x 4 columns]}"
      ]
     },
     "execution_count": 12,
     "metadata": {},
     "output_type": "execute_result"
    }
   ],
   "source": [
    "md.df_data"
   ]
  },
  {
   "cell_type": "markdown",
   "id": "58eee8bd",
   "metadata": {},
   "source": [
    "# save"
   ]
  },
  {
   "cell_type": "code",
   "execution_count": 13,
   "id": "a6948960",
   "metadata": {
    "ExecuteTime": {
     "end_time": "2022-05-10T12:18:38.779729Z",
     "start_time": "2022-05-10T12:18:37.986306Z"
    }
   },
   "outputs": [
    {
     "name": "stdout",
     "output_type": "stream",
     "text": [
      "---------- 0.4 ----------\n",
      "       bug_report_id  class_id  time_stamp  label\n",
      "0              27758     90276  1582785511      0\n",
      "1              27758    107081  1582785511      0\n",
      "2              27758    114937  1582785511      0\n",
      "3              27758    103283  1582785511      1\n",
      "4              27758     82681  1582785511      0\n",
      "...              ...       ...         ...    ...\n",
      "28044          39606    114374  1435703450      0\n",
      "28045          39606    113678  1435703450      0\n",
      "28046          39606    115781  1435703450      0\n",
      "28047          39606    113169  1435703450      0\n",
      "28048          39606    118193  1435703450      0\n",
      "\n",
      "[28049 rows x 4 columns]\n",
      "3610\n",
      "28049\n",
      "---------- 0.5 ----------\n",
      "       bug_report_id  class_id  time_stamp  label\n",
      "0              27760    116664  1582890005      0\n",
      "1              27760     82753  1582890005      1\n",
      "2              27760    112457  1582890005      1\n",
      "3              27760    106501  1582890005      0\n",
      "4              27760    106951  1582890005      0\n",
      "...              ...       ...         ...    ...\n",
      "28044          39620    112531  1435109369      0\n",
      "28045          39620    115563  1435109369      0\n",
      "28046          39620    114678  1435109369      0\n",
      "28047          39620    112531  1435109761      0\n",
      "28048          39623    114864  1434656000      0\n",
      "\n",
      "[28049 rows x 4 columns]\n",
      "3610\n",
      "28049\n",
      "---------- 0.6 ----------\n",
      "       bug_report_id  class_id  time_stamp  label\n",
      "0              27762     87098  1582796413     -1\n",
      "1              27763     96341  1582780141      0\n",
      "2              27763     81074  1582780141      0\n",
      "3              27763    102748  1582780141      1\n",
      "4              27763    114477  1582780141      1\n",
      "...              ...       ...         ...    ...\n",
      "28044          39620    112531  1435109761      0\n",
      "28045          39622    114566  1434766441      0\n",
      "28046          39622    114589  1434766441      0\n",
      "28047          39622    114541  1435080450      0\n",
      "28048          39623    114864  1434656000      0\n",
      "\n",
      "[28049 rows x 4 columns]\n",
      "3610\n",
      "28049\n",
      "---------- 0.7 ----------\n",
      "       bug_report_id  class_id  time_stamp  label\n",
      "0              27757     96937  1571429184      1\n",
      "1              27757     94192  1575998237      0\n",
      "2              27757     91106  1575998237      0\n",
      "3              27757     96120  1575998237      0\n",
      "4              27757     89077  1571429184     -1\n",
      "...              ...       ...         ...    ...\n",
      "28044          39606    113015  1435703450      0\n",
      "28045          39606    115584  1435703450      0\n",
      "28046          39622    114566  1434766441      0\n",
      "28047          39622    114589  1434766441      0\n",
      "28048          39622    114541  1435080450      0\n",
      "\n",
      "[28049 rows x 4 columns]\n",
      "3610\n",
      "28049\n",
      "---------- 0.8 ----------\n",
      "       bug_report_id  class_id  time_stamp  label\n",
      "0              27758     83449  1582785511      0\n",
      "1              27758     88740  1582785511      0\n",
      "2              27758     91039  1582785511      0\n",
      "3              27758    112110  1582785511      1\n",
      "4              27758     89995  1582785511      0\n",
      "...              ...       ...         ...    ...\n",
      "28044          39606    113784  1435703450      0\n",
      "28045          39622    114566  1434766441      0\n",
      "28046          39622    114589  1434766441      0\n",
      "28047          39622    114541  1435080450      0\n",
      "28048          39623    114864  1434656000      0\n",
      "\n",
      "[28049 rows x 4 columns]\n",
      "3610\n",
      "28049\n"
     ]
    }
   ],
   "source": [
    "for bla, df in md.df_data.items():\n",
    "    print(\"-\" * 10, bla , \"-\" * 10)\n",
    "    print(df)\n",
    "    print(len(df.groupby(\"bug_report_id\")))\n",
    "    print(len(df))\n",
    "    \n",
    "    if which_method == \"first\":\n",
    "        path_folder = pre_path_data + \"first/bla={}/\".format(bla)\n",
    "        my_file_name = \"{} _ bla={}.csv\".format(dataset_file_name, bla)\n",
    "        \n",
    "    else:\n",
    "        path_folder = pre_path_data + \"second/k={}/bla={}/\".format(top_k, bla)\n",
    "        my_file_name = \"{} _ k={}, bla={}.csv\".format(dataset_file_name, top_k, bla)\n",
    "    \n",
    "    \n",
    "    full_path = path_folder + my_file_name\n",
    "    df.to_csv(full_path, header=False, index=False)"
   ]
  },
  {
   "cell_type": "code",
   "execution_count": null,
   "id": "41d86920",
   "metadata": {},
   "outputs": [],
   "source": []
  }
 ],
 "metadata": {
  "kernelspec": {
   "display_name": "Python 3 (ipykernel)",
   "language": "python",
   "name": "python3"
  },
  "language_info": {
   "codemirror_mode": {
    "name": "ipython",
    "version": 3
   },
   "file_extension": ".py",
   "mimetype": "text/x-python",
   "name": "python",
   "nbconvert_exporter": "python",
   "pygments_lexer": "ipython3",
   "version": "3.7.11"
  },
  "toc": {
   "base_numbering": 1,
   "nav_menu": {},
   "number_sections": false,
   "sideBar": true,
   "skip_h1_title": false,
   "title_cell": "Table of Contents",
   "title_sidebar": "Contents",
   "toc_cell": false,
   "toc_position": {
    "height": "calc(100% - 180px)",
    "left": "10px",
    "top": "150px",
    "width": "226.188px"
   },
   "toc_section_display": true,
   "toc_window_display": true
  }
 },
 "nbformat": 4,
 "nbformat_minor": 5
}
