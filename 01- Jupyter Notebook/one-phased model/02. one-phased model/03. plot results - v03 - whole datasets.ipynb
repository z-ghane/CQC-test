{
 "cells": [
  {
   "cell_type": "markdown",
   "id": "bb16ef61",
   "metadata": {},
   "source": [
    "# Set Variables"
   ]
  },
  {
   "cell_type": "code",
   "execution_count": 1,
   "id": "1d473d55",
   "metadata": {
    "ExecuteTime": {
     "end_time": "2022-05-18T12:52:18.955187Z",
     "start_time": "2022-05-18T12:52:18.839019Z"
    }
   },
   "outputs": [],
   "source": [
    "# -------- bad smell\n",
    "# bad_smell = \"CC\" # Cyclomatic Complexity\n",
    "bad_smell = \"DE\" # Design\n",
    "# bad_smell = \"NC\" # Npath Complexity\n",
    "\n",
    "\n",
    "# --------\n",
    "my_keyword_Based = True\n",
    "my_conv_kernel_output_channel = 64\n",
    "my_balance_train = False\n",
    "\n",
    "\n",
    "# --------\n",
    "if my_conv_kernel_output_channel == 64:\n",
    "    output_version = 2\n",
    "else: # my_conv_kernel_output_channel == 8\n",
    "    output_version = 3\n",
    "\n",
    "\n",
    "if my_balance_train:\n",
    "    file_subversion = \".2-balanced\"\n",
    "else:\n",
    "    file_subversion = \".1-imbalance\""
   ]
  },
  {
   "cell_type": "markdown",
   "id": "60798d75",
   "metadata": {},
   "source": [
    "# Google Colab"
   ]
  },
  {
   "cell_type": "code",
   "execution_count": 2,
   "id": "563311ac",
   "metadata": {
    "ExecuteTime": {
     "end_time": "2022-05-18T12:52:20.597411Z",
     "start_time": "2022-05-18T12:52:20.585440Z"
    }
   },
   "outputs": [],
   "source": [
    "sub_folders = {\n",
    "    \"camel\":      \"camel_\"       + bad_smell,\n",
    "    \"cloudstack\": \"cloudstack_\"  + bad_smell,\n",
    "    \"geode\":      \"geode_\"       + bad_smell,\n",
    "    \"hbase\":      \"hbase_\"       + bad_smell\n",
    "}"
   ]
  },
  {
   "cell_type": "code",
   "execution_count": 3,
   "id": "d1076a6d",
   "metadata": {
    "ExecuteTime": {
     "end_time": "2022-05-18T12:52:21.137003Z",
     "start_time": "2022-05-18T12:52:21.130010Z"
    }
   },
   "outputs": [],
   "source": [
    "dataset_file_names = {\n",
    "    \"camel\":      \"camel_DE - v.02\",\n",
    "    \"cloudstack\": \"cloudstack_DE - v.01\",\n",
    "    \"geode\":      \"geode_DE - v.01\",\n",
    "    \"hbase\":      \"hbase_DE - v.01\"\n",
    "}"
   ]
  },
  {
   "cell_type": "code",
   "execution_count": 4,
   "id": "8ae99779",
   "metadata": {
    "ExecuteTime": {
     "end_time": "2022-05-18T12:52:21.783839Z",
     "start_time": "2022-05-18T12:52:21.771842Z"
    }
   },
   "outputs": [],
   "source": [
    "tempPre = \"E:/darsy/00/02- arshad/10- paper code/\"\n",
    "tempOutput = \"01- Jupyter Notebook/Direct Method/00. Output/\""
   ]
  },
  {
   "cell_type": "code",
   "execution_count": 5,
   "id": "ef5391f8",
   "metadata": {
    "ExecuteTime": {
     "end_time": "2022-05-18T12:52:22.397474Z",
     "start_time": "2022-05-18T12:52:22.381484Z"
    }
   },
   "outputs": [],
   "source": [
    "pre_path_outputs = {}\n",
    "for k, v in dataset_file_names.items():\n",
    "    pre_path_outputs[k] = tempPre + tempOutput + k + \"/\" + sub_folders[k] + \"/\" + v + \"/\""
   ]
  },
  {
   "cell_type": "markdown",
   "id": "a06904c1",
   "metadata": {},
   "source": [
    "# Libs"
   ]
  },
  {
   "cell_type": "code",
   "execution_count": 6,
   "id": "b5844ea3",
   "metadata": {
    "ExecuteTime": {
     "end_time": "2022-05-18T12:52:28.284042Z",
     "start_time": "2022-05-18T12:52:23.462221Z"
    }
   },
   "outputs": [],
   "source": [
    "import json\n",
    "import os.path\n",
    "\n",
    "import pandas as pd\n",
    "import numpy as np\n",
    "import matplotlib.pyplot as plt\n",
    "import seaborn as sns\n",
    "\n",
    "from operator import truediv\n",
    "\n",
    "from matplotlib.ticker import MaxNLocator"
   ]
  },
  {
   "cell_type": "code",
   "execution_count": 7,
   "id": "9d0015ab",
   "metadata": {
    "ExecuteTime": {
     "end_time": "2022-05-18T12:52:28.299548Z",
     "start_time": "2022-05-18T12:52:28.284042Z"
    }
   },
   "outputs": [],
   "source": [
    "# import nltk\n",
    "# nltk.download(\"stopwords\")"
   ]
  },
  {
   "cell_type": "code",
   "execution_count": 8,
   "id": "e089bf03",
   "metadata": {
    "ExecuteTime": {
     "end_time": "2022-05-18T12:52:28.486439Z",
     "start_time": "2022-05-18T12:52:28.305544Z"
    }
   },
   "outputs": [
    {
     "name": "stdout",
     "output_type": "stream",
     "text": [
      "Python 3.7.11\n",
      "3.5.0\n"
     ]
    }
   ],
   "source": [
    "!python -V\n",
    "import matplotlib\n",
    "print(matplotlib.__version__)"
   ]
  },
  {
   "cell_type": "markdown",
   "id": "a2d03d3d",
   "metadata": {},
   "source": [
    "# Config"
   ]
  },
  {
   "cell_type": "code",
   "execution_count": 9,
   "id": "620671fa",
   "metadata": {
    "ExecuteTime": {
     "end_time": "2022-05-18T12:52:28.502430Z",
     "start_time": "2022-05-18T12:52:28.491436Z"
    }
   },
   "outputs": [],
   "source": [
    "mypaths = {}\n",
    "\n",
    "for k, v in dataset_file_names.items():\n",
    "    if my_keyword_Based:\n",
    "        mypaths[k] = pre_path_outputs[k] + \"performances/tfidf-performance-v{}{}.json\".format(output_version, \"{}\")\n",
    "    else:\n",
    "        mypaths[k] = pre_path_outputs[k] + \"performances/w2v-performance-v{}{}.json\".format(output_version, \"{}\")\n",
    "    \n",
    "    # -----\n",
    "    \n",
    "    if my_balance_train:\n",
    "        mypaths[k] = mypaths[k].format(\".2-balanced\")\n",
    "    else:\n",
    "        mypaths[k] = mypaths[k].format(\".1-imbalance\")"
   ]
  },
  {
   "cell_type": "code",
   "execution_count": 10,
   "id": "238eca6a",
   "metadata": {
    "ExecuteTime": {
     "end_time": "2022-05-18T12:52:28.534412Z",
     "start_time": "2022-05-18T12:52:28.506428Z"
    }
   },
   "outputs": [
    {
     "data": {
      "text/plain": [
       "{'camel': 'E:/darsy/00/02- arshad/10- paper code/01- Jupyter Notebook/Direct Method/00. Output/camel/camel_DE/camel_DE - v.02/performances/tfidf-performance-v2.1-imbalance.json',\n",
       " 'cloudstack': 'E:/darsy/00/02- arshad/10- paper code/01- Jupyter Notebook/Direct Method/00. Output/cloudstack/cloudstack_DE/cloudstack_DE - v.01/performances/tfidf-performance-v2.1-imbalance.json',\n",
       " 'geode': 'E:/darsy/00/02- arshad/10- paper code/01- Jupyter Notebook/Direct Method/00. Output/geode/geode_DE/geode_DE - v.01/performances/tfidf-performance-v2.1-imbalance.json',\n",
       " 'hbase': 'E:/darsy/00/02- arshad/10- paper code/01- Jupyter Notebook/Direct Method/00. Output/hbase/hbase_DE/hbase_DE - v.01/performances/tfidf-performance-v2.1-imbalance.json'}"
      ]
     },
     "execution_count": 10,
     "metadata": {},
     "output_type": "execute_result"
    }
   ],
   "source": [
    "mypaths"
   ]
  },
  {
   "cell_type": "code",
   "execution_count": 11,
   "id": "a124d3bd",
   "metadata": {
    "ExecuteTime": {
     "end_time": "2022-05-18T12:52:28.550402Z",
     "start_time": "2022-05-18T12:52:28.539409Z"
    }
   },
   "outputs": [],
   "source": [
    "preprocessing_params = {\n",
    "    \"keyword_Based\": my_keyword_Based\n",
    "}"
   ]
  },
  {
   "cell_type": "code",
   "execution_count": 12,
   "id": "e5592bc7",
   "metadata": {
    "ExecuteTime": {
     "end_time": "2022-05-18T12:52:29.089894Z",
     "start_time": "2022-05-18T12:52:29.071236Z"
    }
   },
   "outputs": [],
   "source": [
    "bcd_colours = [\"blue\", \"green\", \"red\"]"
   ]
  },
  {
   "cell_type": "markdown",
   "id": "37935d30",
   "metadata": {},
   "source": [
    "# my_whole_datas"
   ]
  },
  {
   "cell_type": "code",
   "execution_count": 13,
   "id": "745d6a46",
   "metadata": {
    "ExecuteTime": {
     "end_time": "2022-05-18T12:52:32.951259Z",
     "start_time": "2022-05-18T12:52:32.325450Z"
    }
   },
   "outputs": [],
   "source": [
    "my_whole_datas = {}\n",
    "for k, v in mypaths.items():\n",
    "    with open(v) as filehandle:\n",
    "        my_whole_datas[k] = json.load(filehandle)"
   ]
  },
  {
   "cell_type": "code",
   "execution_count": 14,
   "id": "d6c291fd",
   "metadata": {
    "ExecuteTime": {
     "end_time": "2022-05-18T12:52:32.966186Z",
     "start_time": "2022-05-18T12:52:32.951259Z"
    }
   },
   "outputs": [],
   "source": [
    "class_labels = my_whole_datas[\"camel\"][\"preprocessing_params\"][\"bug_classes\"]\n",
    "epochs = my_whole_datas[\"camel\"][\"train_params\"][\"epochs\"]"
   ]
  },
  {
   "cell_type": "code",
   "execution_count": 15,
   "id": "36d96748",
   "metadata": {
    "ExecuteTime": {
     "end_time": "2022-05-18T12:52:33.198985Z",
     "start_time": "2022-05-18T12:52:33.180995Z"
    }
   },
   "outputs": [
    {
     "name": "stdout",
     "output_type": "stream",
     "text": [
      "[0, 1]\n",
      "20\n"
     ]
    }
   ],
   "source": [
    "print(class_labels)\n",
    "print(epochs)"
   ]
  },
  {
   "cell_type": "code",
   "execution_count": 16,
   "id": "c0f65f1c",
   "metadata": {
    "ExecuteTime": {
     "end_time": "2022-05-18T12:52:35.058384Z",
     "start_time": "2022-05-18T12:52:35.042754Z"
    }
   },
   "outputs": [],
   "source": [
    "best_step_labels = {}\n",
    "best_step_indexs = {}\n",
    "datas = {}\n",
    "\n",
    "for k, mwd in my_whole_datas.items():\n",
    "    best_step_labels[k] = mwd[\"model_results\"][\"validation\"][\"best_at_step\"]\n",
    "    best_step_indexs[k] = mwd[\"model_results\"][\"validation\"][\"best_at_step\"] - 1\n",
    "    datas[k] = mwd[\"model_results\"]"
   ]
  },
  {
   "cell_type": "code",
   "execution_count": 17,
   "id": "f3cb329f",
   "metadata": {
    "ExecuteTime": {
     "end_time": "2022-05-18T12:52:35.479162Z",
     "start_time": "2022-05-18T12:52:35.469145Z"
    }
   },
   "outputs": [
    {
     "name": "stdout",
     "output_type": "stream",
     "text": [
      "{'camel': 3, 'cloudstack': 2, 'geode': 1, 'hbase': 4}\n",
      "{'camel': 2, 'cloudstack': 1, 'geode': 0, 'hbase': 3}\n"
     ]
    }
   ],
   "source": [
    "print(best_step_labels)\n",
    "print(best_step_indexs)"
   ]
  },
  {
   "cell_type": "code",
   "execution_count": 18,
   "id": "576ea870",
   "metadata": {
    "ExecuteTime": {
     "end_time": "2022-05-18T12:52:36.222738Z",
     "start_time": "2022-05-18T12:52:36.204749Z"
    }
   },
   "outputs": [],
   "source": [
    "ls = \"solid\"\n",
    "lw = 1\n",
    "lw_test = 5\n",
    "marker = \".\"\n",
    "marker_test = \"o\"\n",
    "# train_data_status = train_data_status\n",
    "\n",
    "colours = {\n",
    "    \"camel\":      \"red\",\n",
    "    \"cloudstack\": \"blue\",\n",
    "    \"geode\":      \"green\",\n",
    "    \"hbase\":      \"orange\"\n",
    "}"
   ]
  },
  {
   "cell_type": "markdown",
   "id": "856b764e",
   "metadata": {},
   "source": [
    "# plot_acc_cost_"
   ]
  },
  {
   "cell_type": "code",
   "execution_count": 24,
   "id": "45ffde2a",
   "metadata": {
    "ExecuteTime": {
     "end_time": "2022-05-18T12:55:44.840110Z",
     "start_time": "2022-05-18T12:55:44.819125Z"
    }
   },
   "outputs": [
    {
     "name": "stdout",
     "output_type": "stream",
     "text": [
      "---------- camel\n",
      "1 66.2\n",
      "2 65.7\n",
      "3 66.4\n",
      "4 66.2\n",
      "5 64.7\n",
      "6 63.7\n",
      "7 65.0\n",
      "8 65.2\n",
      "9 65.1\n",
      "10 65.1\n",
      "11 63.7\n",
      "12 64.6\n",
      "13 63.9\n",
      "14 64.2\n",
      "15 64.1\n",
      "16 63.9\n",
      "17 64.5\n",
      "18 64.1\n",
      "19 63.7\n",
      "20 63.9\n",
      "---------- cloudstack\n",
      "1 70.4\n",
      "2 71.9\n",
      "3 65.0\n",
      "4 71.3\n",
      "5 71.2\n",
      "6 70.7\n",
      "7 70.7\n",
      "8 71.2\n",
      "9 71.2\n",
      "10 70.9\n",
      "11 71.5\n",
      "12 71.3\n",
      "13 71.2\n",
      "14 71.3\n",
      "15 71.2\n",
      "16 71.2\n",
      "17 70.9\n",
      "18 71.6\n",
      "19 71.6\n",
      "20 71.3\n",
      "---------- geode\n",
      "1 77.0\n",
      "2 76.9\n",
      "3 76.2\n",
      "4 77.0\n",
      "5 76.6\n",
      "6 76.3\n",
      "7 76.5\n",
      "8 76.2\n",
      "9 76.5\n",
      "10 76.6\n",
      "11 76.5\n",
      "12 76.5\n",
      "13 76.5\n",
      "14 75.9\n",
      "15 76.3\n",
      "16 76.3\n",
      "17 75.1\n",
      "18 76.2\n",
      "19 75.2\n",
      "20 76.5\n",
      "---------- hbase\n",
      "1 66.2\n",
      "2 65.6\n",
      "3 65.7\n",
      "4 67.5\n",
      "5 65.5\n",
      "6 66.1\n",
      "7 64.7\n",
      "8 65.4\n",
      "9 66.3\n",
      "10 65.5\n",
      "11 64.8\n",
      "12 65.0\n",
      "13 64.9\n",
      "14 65.7\n",
      "15 65.1\n",
      "16 65.2\n",
      "17 65.0\n",
      "18 65.5\n",
      "19 65.1\n",
      "20 64.9\n"
     ]
    }
   ],
   "source": [
    "for k, mwd in my_whole_datas.items():\n",
    "    print(\"-\" * 10, k)\n",
    "    for i, acc in enumerate(datas[k][\"validation\"][\"accuracy\"]):\n",
    "        print(i + 1, round(acc, 1))"
   ]
  },
  {
   "cell_type": "code",
   "execution_count": 19,
   "id": "f512c6a5",
   "metadata": {
    "ExecuteTime": {
     "end_time": "2022-05-17T13:13:12.261477Z",
     "start_time": "2022-05-17T13:13:10.400031Z"
    }
   },
   "outputs": [
    {
     "data": {
      "image/png": "[encoded data removed]",
      "text/plain": [
       "<Figure size 864x720 with 2 Axes>"
      ]
     },
     "metadata": {
      "needs_background": "light"
     },
     "output_type": "display_data"
    }
   ],
   "source": [
    "fig, axes = plt.subplots(nrows=2, ncols=1, figsize=(12, 10))\n",
    "\n",
    "mymetrics = [\"accuracy\", \"cost\"]\n",
    "my_x = range(1, epochs + 1, 1)\n",
    "\n",
    "for ax, metric in zip(axes, mymetrics):\n",
    "    ax.get_xaxis().set_major_locator(MaxNLocator(integer=True))\n",
    "\n",
    "    if metric == \"accuracy\":\n",
    "        for k, mwd in my_whole_datas.items():\n",
    "            ax.set_ylim([0, 100])\n",
    "            ax.scatter(best_step_labels[k], datas[k][\"validation\"][\"best_acc\"], \n",
    "                       label=\"best on Validation Dataset\", color=\"cyan\", lw=lw_test, marker=marker_test)\n",
    "    else:\n",
    "        for k, mwd in my_whole_datas.items():\n",
    "            ax.set_ylim([0, 300])\n",
    "            ax.scatter(best_step_labels[k], datas[k][\"validation\"][\"cost\"][best_step_indexs[k]], \n",
    "                       label=\"best on Validation Dataset\", color=\"cyan\", lw=lw_test, marker=marker_test)\n",
    "\n",
    "    for k, mwd in my_whole_datas.items():\n",
    "        ax.plot(my_x, metric, data=datas[k][\"validation\"], label=\"Validation Dataset - {}\".format(k), \n",
    "                color=colours[k], linestyle=ls, lw=lw, marker=marker)\n",
    "\n",
    "    ax.set_xlim([0, 30])\n",
    "    ax.set_xlabel(\"epoch\")\n",
    "    ax.set_ylabel(metric)\n",
    "    ax.legend()\n",
    "    ax.grid(True)\n",
    "\n",
    "    ax.get_xaxis().set_ticks( list(range(1, epochs + 1)) )\n",
    "# --- end for\n",
    "\n",
    "fig.tight_layout(pad=1.0)"
   ]
  },
  {
   "cell_type": "markdown",
   "id": "13299d56",
   "metadata": {},
   "source": [
    "# call"
   ]
  },
  {
   "cell_type": "code",
   "execution_count": 21,
   "id": "cb79d9df",
   "metadata": {
    "ExecuteTime": {
     "end_time": "2022-05-17T18:48:34.433592Z",
     "start_time": "2022-05-17T18:48:19.931714Z"
    }
   },
   "outputs": [],
   "source": [
    "my_path =   \"D:/SAVE/Tests/\"\n",
    "file_name = \"Direct Method - v06-dpi=1000.jpg\"\n",
    "full_path = my_path + file_name\n",
    "\n",
    "resolution_value = 1000\n",
    "\n",
    "fig.savefig(full_path, format=\"jpg\", dpi=resolution_value)"
   ]
  },
  {
   "cell_type": "code",
   "execution_count": null,
   "id": "84bfb371",
   "metadata": {},
   "outputs": [],
   "source": []
  }
 ],
 "metadata": {
  "kernelspec": {
   "display_name": "paper-pytorch-cpu_jn",
   "language": "python",
   "name": "paper-pytorch-cpu_jn"
  },
  "language_info": {
   "codemirror_mode": {
    "name": "ipython",
    "version": 3
   },
   "file_extension": ".py",
   "mimetype": "text/x-python",
   "name": "python",
   "nbconvert_exporter": "python",
   "pygments_lexer": "ipython3",
   "version": "3.7.11"
  },
  "toc": {
   "base_numbering": 1,
   "nav_menu": {},
   "number_sections": false,
   "sideBar": true,
   "skip_h1_title": false,
   "title_cell": "Table of Contents",
   "title_sidebar": "Contents",
   "toc_cell": false,
   "toc_position": {
    "height": "calc(100% - 180px)",
    "left": "10px",
    "top": "150px",
    "width": "190px"
   },
   "toc_section_display": true,
   "toc_window_display": true
  }
 },
 "nbformat": 4,
 "nbformat_minor": 5
}
