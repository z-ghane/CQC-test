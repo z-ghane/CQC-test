{
 "cells": [
  {
   "cell_type": "markdown",
   "id": "bb16ef61",
   "metadata": {},
   "source": [
    "# Set Variables"
   ]
  },
  {
   "cell_type": "code",
   "execution_count": 4,
   "id": "1d473d55",
   "metadata": {
    "ExecuteTime": {
     "end_time": "2022-05-15T05:44:28.873883Z",
     "start_time": "2022-05-15T05:44:28.858259Z"
    }
   },
   "outputs": [],
   "source": [
    "# -------- dataset\n",
    "software_name = \"camel\"\n",
    "# software_name = \"cloudstack\"\n",
    "# software_name = \"geode\"\n",
    "# software_name = \"hbase\"\n",
    "\n",
    "# -------- bad smell\n",
    "# bad_smell = \"CC\" # Cyclomatic Complexity\n",
    "bad_smell = \"DE\" # Design\n",
    "# bad_smell = \"NC\" # Npath Complexity\n",
    "\n",
    "# --------\n",
    "my_keyword_Based = True\n",
    "my_docMaxLen = 100 if my_keyword_Based else None"
   ]
  },
  {
   "cell_type": "markdown",
   "id": "60798d75",
   "metadata": {},
   "source": [
    "# Google Colab"
   ]
  },
  {
   "cell_type": "code",
   "execution_count": 5,
   "id": "0cf68573",
   "metadata": {
    "ExecuteTime": {
     "end_time": "2022-05-15T05:44:30.650276Z",
     "start_time": "2022-05-15T05:44:30.634266Z"
    }
   },
   "outputs": [],
   "source": [
    "sub_folder = software_name + \"_\" + bad_smell"
   ]
  },
  {
   "cell_type": "code",
   "execution_count": 6,
   "id": "99ec7eb3",
   "metadata": {
    "ExecuteTime": {
     "end_time": "2022-05-15T05:44:34.131875Z",
     "start_time": "2022-05-15T05:44:34.115866Z"
    }
   },
   "outputs": [],
   "source": [
    "if software_name == \"camel\":\n",
    "    dataset_file_name = \"camel_DE - v.02\"\n",
    "    \n",
    "elif software_name == \"cloudstack\":\n",
    "    dataset_file_name = \"cloudstack_DE - v.01\"\n",
    "    \n",
    "elif software_name == \"geode\":\n",
    "    dataset_file_name = \"geode_DE - v.01\"\n",
    "    \n",
    "else:\n",
    "    dataset_file_name = \"hbase_DE - v.01\""
   ]
  },
  {
   "cell_type": "code",
   "execution_count": 7,
   "id": "8ae99779",
   "metadata": {
    "ExecuteTime": {
     "end_time": "2022-05-15T05:44:57.328535Z",
     "start_time": "2022-05-15T05:44:57.320541Z"
    }
   },
   "outputs": [],
   "source": [
    "tempPre = \"E:/darsy/00/02- arshad/10- paper code/\""
   ]
  },
  {
   "cell_type": "code",
   "execution_count": 8,
   "id": "ff5ba72d",
   "metadata": {
    "ExecuteTime": {
     "end_time": "2022-05-15T05:44:58.426453Z",
     "start_time": "2022-05-15T05:44:58.415460Z"
    }
   },
   "outputs": [],
   "source": [
    "tempData =   \"00- My Data/Datasets/Direct Method/\"\n",
    "tempOutput = \"01- Jupyter Notebook/Direct Method/00. Output/\"\n",
    "\n",
    "pre_path_data   = tempPre + tempData   + software_name + \"/\" + sub_folder + \"/\"\n",
    "pre_path_output = tempPre + tempOutput + software_name + \"/\" + sub_folder + \"/\" + dataset_file_name + \"/\""
   ]
  },
  {
   "cell_type": "markdown",
   "id": "a06904c1",
   "metadata": {},
   "source": [
    "# Libs"
   ]
  },
  {
   "cell_type": "code",
   "execution_count": 26,
   "id": "b5844ea3",
   "metadata": {
    "ExecuteTime": {
     "end_time": "2022-05-15T05:48:24.249103Z",
     "start_time": "2022-05-15T05:48:21.160774Z"
    }
   },
   "outputs": [],
   "source": [
    "import string\n",
    "import re\n",
    "import json\n",
    "import os.path\n",
    "import copy\n",
    "import math\n",
    "import time\n",
    "import os\n",
    "\n",
    "import pandas as pd\n",
    "import numpy as np\n",
    "import matplotlib.pyplot as plt\n",
    "\n",
    "from torchvision import transforms\n",
    "from nltk.corpus import stopwords\n",
    "from nltk.tokenize import WordPunctTokenizer\n",
    "from nltk.text import TextCollection"
   ]
  },
  {
   "cell_type": "code",
   "execution_count": 10,
   "id": "9d0015ab",
   "metadata": {
    "ExecuteTime": {
     "end_time": "2022-05-15T05:45:06.359420Z",
     "start_time": "2022-05-15T05:45:06.344234Z"
    }
   },
   "outputs": [],
   "source": [
    "# import nltk\n",
    "# nltk.download(\"stopwords\")"
   ]
  },
  {
   "cell_type": "code",
   "execution_count": 11,
   "id": "e089bf03",
   "metadata": {
    "ExecuteTime": {
     "end_time": "2022-05-15T05:45:06.485388Z",
     "start_time": "2022-05-15T05:45:06.365417Z"
    }
   },
   "outputs": [
    {
     "name": "stdout",
     "output_type": "stream",
     "text": [
      "Python 3.7.11\n",
      "3.5.0\n"
     ]
    }
   ],
   "source": [
    "!python -V\n",
    "import matplotlib\n",
    "print(matplotlib.__version__)"
   ]
  },
  {
   "cell_type": "markdown",
   "id": "a2d03d3d",
   "metadata": {},
   "source": [
    "# Config"
   ]
  },
  {
   "cell_type": "code",
   "execution_count": 30,
   "id": "a124d3bd",
   "metadata": {
    "ExecuteTime": {
     "end_time": "2022-05-15T05:49:34.774720Z",
     "start_time": "2022-05-15T05:49:34.744740Z"
    }
   },
   "outputs": [
    {
     "ename": "NameError",
     "evalue": "name 'output_version' is not defined",
     "output_type": "error",
     "traceback": [
      "\u001b[1;31m---------------------------------------------------------------------------\u001b[0m",
      "\u001b[1;31mNameError\u001b[0m                                 Traceback (most recent call last)",
      "\u001b[1;32m~\\AppData\\Local\\Temp/ipykernel_1168/3997593371.py\u001b[0m in \u001b[0;36m<module>\u001b[1;34m\u001b[0m\n\u001b[0;32m      4\u001b[0m         \u001b[1;31m# \"pre_trained_model\":  pre_path_data   + \"w2vGoogle.bin\",\u001b[0m\u001b[1;33m\u001b[0m\u001b[1;33m\u001b[0m\u001b[1;33m\u001b[0m\u001b[0m\n\u001b[0;32m      5\u001b[0m         \u001b[1;34m\"pre_trained_model\"\u001b[0m\u001b[1;33m:\u001b[0m  \u001b[0mtempPre\u001b[0m \u001b[1;33m+\u001b[0m \u001b[0mtempData\u001b[0m \u001b[1;33m+\u001b[0m \u001b[1;34m\"w2vGoogle.bin\"\u001b[0m\u001b[1;33m,\u001b[0m\u001b[1;33m\u001b[0m\u001b[1;33m\u001b[0m\u001b[0m\n\u001b[1;32m----> 6\u001b[1;33m         \u001b[1;34m\"output_performance\"\u001b[0m\u001b[1;33m:\u001b[0m \u001b[0mpre_path_output\u001b[0m \u001b[1;33m+\u001b[0m \u001b[1;34m\"performances/w2v-performance-v{}{}.json\"\u001b[0m\u001b[1;33m.\u001b[0m\u001b[0mformat\u001b[0m\u001b[1;33m(\u001b[0m\u001b[0moutput_version\u001b[0m\u001b[1;33m,\u001b[0m \u001b[1;34m\"{}\"\u001b[0m\u001b[1;33m)\u001b[0m\u001b[1;33m,\u001b[0m\u001b[1;33m\u001b[0m\u001b[1;33m\u001b[0m\u001b[0m\n\u001b[0m\u001b[0;32m      7\u001b[0m         \u001b[1;34m\"output_model\"\u001b[0m\u001b[1;33m:\u001b[0m       \u001b[0mpre_path_output\u001b[0m \u001b[1;33m+\u001b[0m \u001b[1;34m\"models/w2v-model-v{}{}.pth\"\u001b[0m\u001b[1;33m.\u001b[0m\u001b[0mformat\u001b[0m\u001b[1;33m(\u001b[0m\u001b[0moutput_version\u001b[0m\u001b[1;33m,\u001b[0m \u001b[1;34m\"{}\"\u001b[0m\u001b[1;33m)\u001b[0m\u001b[1;33m\u001b[0m\u001b[1;33m\u001b[0m\u001b[0m\n\u001b[0;32m      8\u001b[0m     }, \n",
      "\u001b[1;31mNameError\u001b[0m: name 'output_version' is not defined"
     ]
    }
   ],
   "source": [
    "mypaths = {\n",
    "    \"dataset\":        pre_path_data   + dataset_file_name + \".csv\",\n",
    "    \"w2v\": {\n",
    "        # \"pre_trained_model\":  pre_path_data   + \"w2vGoogle.bin\",\n",
    "        \"pre_trained_model\":  tempPre + tempData + \"w2vGoogle.bin\",\n",
    "        \"output_performance\": pre_path_output + \"performances/w2v-performance-v{}{}.json\".format(output_version, \"{}\"),\n",
    "        \"output_model\":       pre_path_output + \"models/w2v-model-v{}{}.pth\".format(output_version, \"{}\")\n",
    "    }, \n",
    "    \"tfidf\": {\n",
    "        \"output_vec\":         pre_path_output + \"tfidf-vector-v01.json\",\n",
    "        \"output_performance\": pre_path_output + \"performances/tfidf-performance-v{}{}.json\".format(output_version, \"{}\"),\n",
    "        \"output_model\":       pre_path_output + \"models/tfidf-model-v{}{}.pth\".format(output_version, \"{}\")\n",
    "    },\n",
    "}\n",
    "\n",
    "preprocessing_params = {\n",
    "    \"columns_name\":   [\"text\", \"bug_class_2\"],\n",
    "    \"columns_dtype\" : {0: \"str\", 1: \"int64\"},\n",
    "    \"bug_classes\": [0, 1], \n",
    "    \"num_bug_classes\": 2,\n",
    "    \"keyword_Based\": my_keyword_Based,\n",
    "    \"docMaxLen\": my_docMaxLen,\n",
    "}"
   ]
  },
  {
   "cell_type": "markdown",
   "id": "39f184a2",
   "metadata": {},
   "source": [
    "# I. Compose"
   ]
  },
  {
   "cell_type": "code",
   "execution_count": 13,
   "id": "a8b1063d",
   "metadata": {
    "ExecuteTime": {
     "end_time": "2022-05-15T05:45:06.531561Z",
     "start_time": "2022-05-15T05:45:06.502578Z"
    }
   },
   "outputs": [],
   "source": [
    "class Rows(object):\n",
    "    def __init__(self, columns_name, bug_classes):\n",
    "        self.columns_name = columns_name\n",
    "        self.bug_classes = bug_classes\n",
    "    \n",
    "    \n",
    "    def __call__(self, df):\n",
    "        # 1. Set cells to None that have just white spaces\n",
    "        df = df.apply(self.white_spaces_to_None_, axis=1)\n",
    "        \n",
    "        # 2. Delete rows that have NaN values in each of its columns\n",
    "        df.dropna(axis=0, how=\"any\", subset=self.columns_name, inplace=True)\n",
    "        \n",
    "        # 3. Delete rows with class value other than [0, 1]\n",
    "        indexNames = df[~df[\"bug_class_2\"].isin(self.bug_classes)].index\n",
    "        df.drop(indexNames, axis=0, inplace=True)\n",
    "        \n",
    "        return df\n",
    "    \n",
    "    \n",
    "    # set columns that just have white spaces to None\n",
    "    def white_spaces_to_None_(self, row):\n",
    "        for i in self.columns_name:\n",
    "            if row[i] and len(str(row[i]).strip()) == 0:\n",
    "                row[i] = None\n",
    "        return row"
   ]
  },
  {
   "cell_type": "markdown",
   "id": "fd9e62a8",
   "metadata": {},
   "source": [
    "# II. Read Files"
   ]
  },
  {
   "cell_type": "code",
   "execution_count": 14,
   "id": "c60f90b0",
   "metadata": {
    "ExecuteTime": {
     "end_time": "2022-05-15T05:45:08.128411Z",
     "start_time": "2022-05-15T05:45:06.611648Z"
    }
   },
   "outputs": [],
   "source": [
    "df_main = pd.read_csv(\n",
    "    mypaths[\"dataset\"], \n",
    "    names=preprocessing_params[\"columns_name\"], \n",
    "    dtype=preprocessing_params[\"columns_dtype\"],\n",
    "    header=None, \n",
    "    skip_blank_lines=True\n",
    ")\n",
    "\n",
    "composed_pre = transforms.Compose([\n",
    "    Rows(\n",
    "        preprocessing_params[\"columns_name\"], \n",
    "        preprocessing_params[\"bug_classes\"]\n",
    "    )\n",
    "])\n",
    "\n",
    "df_main = composed_pre(df_main)"
   ]
  },
  {
   "cell_type": "code",
   "execution_count": 15,
   "id": "cc1eb2d4",
   "metadata": {
    "ExecuteTime": {
     "end_time": "2022-05-15T05:45:08.143833Z",
     "start_time": "2022-05-15T05:45:08.131416Z"
    }
   },
   "outputs": [
    {
     "name": "stdout",
     "output_type": "stream",
     "text": [
      "9019\n"
     ]
    }
   ],
   "source": [
    "print(len(df_main))"
   ]
  },
  {
   "cell_type": "markdown",
   "id": "66b95114",
   "metadata": {},
   "source": [
    "# III. ClassDistribution\n",
    "In order to see whether dataset is `imbalance` or not."
   ]
  },
  {
   "cell_type": "code",
   "execution_count": 16,
   "id": "0d7020d9",
   "metadata": {
    "ExecuteTime": {
     "end_time": "2022-05-15T05:45:24.525158Z",
     "start_time": "2022-05-15T05:45:24.491161Z"
    }
   },
   "outputs": [],
   "source": [
    "class ClassDistribution():\n",
    "    def __init__(self, class_distributions):\n",
    "        self.num_samples = sum(class_distributions.values())\n",
    "        self.class_distributions = class_distributions # {\"class0\": num0, \"class1\": num1, ...}\n",
    "        self.ratios = {} # {\"1/0\": ratio1, \"1/2\": ratio2, ...}\n",
    "        self.percentage = {} # {\"class0\": perc0, \"class1\": perc1, ...}\n",
    "    \n",
    "    \n",
    "    def calc_ratios(self):\n",
    "        mydata_sorted = [(key, value) for key, value in sorted(self.class_distributions.items(), \n",
    "                                                               key=lambda item: item[1], reverse=True)]\n",
    "        num_classes = len(self.class_distributions)\n",
    "        for i in range(num_classes - 1):\n",
    "            for j in range(i + 1, num_classes):\n",
    "                tempKey1 = mydata_sorted[i][0]\n",
    "                tempKey2 = mydata_sorted[j][0]\n",
    "                mykey = tempKey1 + \"/\" + tempKey2\n",
    "                \n",
    "                tempValue1 = mydata_sorted[i][1]\n",
    "                tempValue2 = mydata_sorted[j][1]\n",
    "                self.ratios[mykey] = tempValue1 / tempValue2\n",
    "    \n",
    "    def calc_percentage(self):\n",
    "        for key, value in self.class_distributions.items():\n",
    "            tempPerc = (value * 100) / self.num_samples\n",
    "            tempPerc = round(tempPerc)\n",
    "            tempPerc = str(tempPerc) + \"%\"\n",
    "            self.percentage[key] = tempPerc\n",
    "    \n",
    "    \n",
    "    def plot_data(self, dataName):\n",
    "        myclasses = list(self.class_distributions.keys())\n",
    "        num_bugreports_perclass = list(self.class_distributions.values())\n",
    "\n",
    "        fig, ax = plt.subplots(1, figsize=(5, 3))\n",
    "        \n",
    "        ax.bar(myclasses, num_bugreports_perclass, color =\"maroon\", label=\"Bug Reports\", width=0.4)\n",
    "        ax.set_xlabel(\"classes\")\n",
    "        ax.set_ylabel(\"Number of bug reports\")\n",
    "        ax.legend()\n",
    "        ax.set_title(\"Number of bug reports PER classes [{}]\".format(dataName))\n",
    "\n",
    "        fig.tight_layout()"
   ]
  },
  {
   "cell_type": "markdown",
   "id": "115f6d7e",
   "metadata": {},
   "source": [
    "## obj"
   ]
  },
  {
   "cell_type": "code",
   "execution_count": 17,
   "id": "6e68a41d",
   "metadata": {
    "ExecuteTime": {
     "end_time": "2022-05-15T05:45:26.717444Z",
     "start_time": "2022-05-15T05:45:26.332042Z"
    }
   },
   "outputs": [
    {
     "name": "stdout",
     "output_type": "stream",
     "text": [
      "ratios     :  {'0/1': 1.8577313054499367}\n",
      "percentages:  {'0': '65%', '1': '35%'}\n"
     ]
    },
    {
     "data": {
      "image/png": "[encoded data removed]",
      "text/plain": [
       "<Figure size 360x216 with 1 Axes>"
      ]
     },
     "metadata": {
      "needs_background": "light"
     },
     "output_type": "display_data"
    }
   ],
   "source": [
    "cds = {} # {\"train\": {\"class0\": num0, \"class1\": num1, ...}, \"validation\": {...}, ...}\n",
    "# calculate class distribution for whole dataset\n",
    "temp = df_main.groupby(\"bug_class_2\").size()\n",
    "cd_whole = temp.to_dict()\n",
    "cd_whole = {str(key): value for key, value in cd_whole.items()}\n",
    "cds[\"whole\"] = cd_whole\n",
    "\n",
    "# plot class distribution for whole dataset\n",
    "wholeCD = ClassDistribution(cd_whole)\n",
    "wholeCD.calc_ratios()\n",
    "print(\"ratios     : \", wholeCD.ratios)\n",
    "wholeCD.calc_percentage()\n",
    "print(\"percentages: \", wholeCD.percentage)\n",
    "wholeCD.plot_data(\"whole\")"
   ]
  },
  {
   "cell_type": "code",
   "execution_count": null,
   "id": "d6436e07",
   "metadata": {},
   "outputs": [],
   "source": []
  }
 ],
 "metadata": {
  "kernelspec": {
   "display_name": "paper-pytorch-cpu_jn",
   "language": "python",
   "name": "paper-pytorch-cpu_jn"
  },
  "language_info": {
   "codemirror_mode": {
    "name": "ipython",
    "version": 3
   },
   "file_extension": ".py",
   "mimetype": "text/x-python",
   "name": "python",
   "nbconvert_exporter": "python",
   "pygments_lexer": "ipython3",
   "version": "3.7.11"
  },
  "toc": {
   "base_numbering": 1,
   "nav_menu": {},
   "number_sections": false,
   "sideBar": true,
   "skip_h1_title": false,
   "title_cell": "Table of Contents",
   "title_sidebar": "Contents",
   "toc_cell": false,
   "toc_position": {
    "height": "calc(100% - 180px)",
    "left": "10px",
    "top": "150px",
    "width": "190px"
   },
   "toc_section_display": true,
   "toc_window_display": true
  }
 },
 "nbformat": 4,
 "nbformat_minor": 5
}
