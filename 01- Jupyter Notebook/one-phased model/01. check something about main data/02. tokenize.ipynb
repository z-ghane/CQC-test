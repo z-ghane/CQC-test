{
 "cells": [
  {
   "cell_type": "markdown",
   "id": "bb16ef61",
   "metadata": {},
   "source": [
    "# Set Variables"
   ]
  },
  {
   "cell_type": "code",
   "execution_count": 1,
   "id": "1d473d55",
   "metadata": {
    "ExecuteTime": {
     "end_time": "2022-05-15T06:22:35.622154Z",
     "start_time": "2022-05-15T06:22:35.594169Z"
    }
   },
   "outputs": [],
   "source": [
    "# -------- dataset\n",
    "# software_name = \"camel\"\n",
    "# software_name = \"cloudstack\"\n",
    "software_name = \"geode\"\n",
    "# software_name = \"hbase\"\n",
    "\n",
    "# -------- bad smell\n",
    "# bad_smell = \"CC\" # Cyclomatic Complexity\n",
    "bad_smell = \"DE\" # Design\n",
    "# bad_smell = \"NC\" # Npath Complexity\n",
    "\n",
    "# --------\n",
    "my_keyword_Based = True\n",
    "# my_keyword_Based = False\n",
    "my_docMaxLen = 100 if my_keyword_Based else None"
   ]
  },
  {
   "cell_type": "markdown",
   "id": "60798d75",
   "metadata": {},
   "source": [
    "# Google Colab"
   ]
  },
  {
   "cell_type": "code",
   "execution_count": 2,
   "id": "0cf68573",
   "metadata": {
    "ExecuteTime": {
     "end_time": "2022-05-15T06:22:35.654137Z",
     "start_time": "2022-05-15T06:22:35.630149Z"
    }
   },
   "outputs": [],
   "source": [
    "sub_folder = software_name + \"_\" + bad_smell"
   ]
  },
  {
   "cell_type": "code",
   "execution_count": 3,
   "id": "99ec7eb3",
   "metadata": {
    "ExecuteTime": {
     "end_time": "2022-05-15T06:22:35.669126Z",
     "start_time": "2022-05-15T06:22:35.659132Z"
    }
   },
   "outputs": [],
   "source": [
    "if software_name == \"camel\":\n",
    "    dataset_file_name = \"camel_DE - v.02\"\n",
    "    \n",
    "elif software_name == \"cloudstack\":\n",
    "    dataset_file_name = \"cloudstack_DE - v.01\"\n",
    "    \n",
    "elif software_name == \"geode\":\n",
    "    dataset_file_name = \"geode_DE - v.01\"\n",
    "    \n",
    "else:\n",
    "    dataset_file_name = \"hbase_DE - v.01\""
   ]
  },
  {
   "cell_type": "code",
   "execution_count": 4,
   "id": "8ae99779",
   "metadata": {
    "ExecuteTime": {
     "end_time": "2022-05-15T06:22:35.716099Z",
     "start_time": "2022-05-15T06:22:35.683118Z"
    }
   },
   "outputs": [],
   "source": [
    "tempPre = \"E:/darsy/00/02- arshad/10- paper code/\""
   ]
  },
  {
   "cell_type": "code",
   "execution_count": 5,
   "id": "ff5ba72d",
   "metadata": {
    "ExecuteTime": {
     "end_time": "2022-05-15T06:22:35.749080Z",
     "start_time": "2022-05-15T06:22:35.723095Z"
    }
   },
   "outputs": [],
   "source": [
    "tempData =   \"00- My Data/Datasets/Direct Method/\"\n",
    "tempOutput = \"01- Jupyter Notebook/Direct Method/00. Output/\"\n",
    "\n",
    "pre_path_data   = tempPre + tempData   + software_name + \"/\" + sub_folder + \"/\"\n",
    "pre_path_output = tempPre + tempOutput + software_name + \"/\" + sub_folder + \"/\" + dataset_file_name + \"/\""
   ]
  },
  {
   "cell_type": "markdown",
   "id": "a06904c1",
   "metadata": {},
   "source": [
    "# Libs"
   ]
  },
  {
   "cell_type": "code",
   "execution_count": 6,
   "id": "b5844ea3",
   "metadata": {
    "ExecuteTime": {
     "end_time": "2022-05-15T06:22:41.942558Z",
     "start_time": "2022-05-15T06:22:35.754078Z"
    }
   },
   "outputs": [],
   "source": [
    "import string\n",
    "import re\n",
    "import json\n",
    "import os.path\n",
    "import copy\n",
    "import math\n",
    "import time\n",
    "import os\n",
    "\n",
    "import pandas as pd\n",
    "import numpy as np\n",
    "import matplotlib.pyplot as plt\n",
    "\n",
    "from torchvision import transforms\n",
    "from nltk.corpus import stopwords\n",
    "from nltk.tokenize import WordPunctTokenizer\n",
    "from nltk.text import TextCollection"
   ]
  },
  {
   "cell_type": "code",
   "execution_count": 7,
   "id": "9d0015ab",
   "metadata": {
    "ExecuteTime": {
     "end_time": "2022-05-15T06:22:41.957791Z",
     "start_time": "2022-05-15T06:22:41.944620Z"
    }
   },
   "outputs": [],
   "source": [
    "# import nltk\n",
    "# nltk.download(\"stopwords\")"
   ]
  },
  {
   "cell_type": "code",
   "execution_count": 8,
   "id": "e089bf03",
   "metadata": {
    "ExecuteTime": {
     "end_time": "2022-05-15T06:22:42.099379Z",
     "start_time": "2022-05-15T06:22:41.986775Z"
    }
   },
   "outputs": [
    {
     "name": "stdout",
     "output_type": "stream",
     "text": [
      "Python 3.7.11\n",
      "3.5.0\n"
     ]
    }
   ],
   "source": [
    "!python -V\n",
    "import matplotlib\n",
    "print(matplotlib.__version__)"
   ]
  },
  {
   "cell_type": "markdown",
   "id": "a2d03d3d",
   "metadata": {},
   "source": [
    "# Config"
   ]
  },
  {
   "cell_type": "code",
   "execution_count": 9,
   "id": "a124d3bd",
   "metadata": {
    "ExecuteTime": {
     "end_time": "2022-05-15T06:22:42.116370Z",
     "start_time": "2022-05-15T06:22:42.104375Z"
    }
   },
   "outputs": [],
   "source": [
    "mypaths = {\n",
    "    \"dataset\":        pre_path_data   + dataset_file_name + \".csv\",\n",
    "    \"w2v\": {\n",
    "        # \"pre_trained_model\":  pre_path_data   + \"w2vGoogle.bin\",\n",
    "        \"pre_trained_model\":  tempPre + tempData + \"w2vGoogle.bin\"\n",
    "    }, \n",
    "    \"tfidf\": {\n",
    "        \"output_vec\":         pre_path_output + \"tfidf-vector-v01.json\"\n",
    "    },\n",
    "}\n",
    "\n",
    "preprocessing_params = {\n",
    "    \"columns_name\":   [\"text\", \"bug_class_2\"],\n",
    "    \"columns_dtype\" : {0: \"str\", 1: \"int64\"},\n",
    "    \"bug_classes\": [0, 1], \n",
    "    \"num_bug_classes\": 2,\n",
    "    \"keyword_Based\": my_keyword_Based,\n",
    "    \"docMaxLen\": my_docMaxLen,\n",
    "}"
   ]
  },
  {
   "cell_type": "markdown",
   "id": "39f184a2",
   "metadata": {},
   "source": [
    "# I. Compose"
   ]
  },
  {
   "cell_type": "code",
   "execution_count": 10,
   "id": "a8b1063d",
   "metadata": {
    "ExecuteTime": {
     "end_time": "2022-05-15T06:22:42.146353Z",
     "start_time": "2022-05-15T06:22:42.123368Z"
    }
   },
   "outputs": [],
   "source": [
    "class Rows(object):\n",
    "    def __init__(self, columns_name, bug_classes):\n",
    "        self.columns_name = columns_name\n",
    "        self.bug_classes = bug_classes\n",
    "    \n",
    "    \n",
    "    def __call__(self, df):\n",
    "        # 1. Set cells to None that have just white spaces\n",
    "        df = df.apply(self.white_spaces_to_None_, axis=1)\n",
    "        \n",
    "        # 2. Delete rows that have NaN values in each of its columns\n",
    "        df.dropna(axis=0, how=\"any\", subset=self.columns_name, inplace=True)\n",
    "        \n",
    "        # 3. Delete rows with class value other than [0, 1]\n",
    "        indexNames = df[~df[\"bug_class_2\"].isin(self.bug_classes)].index\n",
    "        df.drop(indexNames, axis=0, inplace=True)\n",
    "        \n",
    "        return df\n",
    "    \n",
    "    \n",
    "    # set columns that just have white spaces to None\n",
    "    def white_spaces_to_None_(self, row):\n",
    "        for i in self.columns_name:\n",
    "            if row[i] and len(str(row[i]).strip()) == 0:\n",
    "                row[i] = None\n",
    "        return row"
   ]
  },
  {
   "cell_type": "markdown",
   "id": "fd9e62a8",
   "metadata": {},
   "source": [
    "# II. Read Files"
   ]
  },
  {
   "cell_type": "code",
   "execution_count": 11,
   "id": "c60f90b0",
   "metadata": {
    "ExecuteTime": {
     "end_time": "2022-05-15T06:22:42.853095Z",
     "start_time": "2022-05-15T06:22:42.150350Z"
    }
   },
   "outputs": [],
   "source": [
    "df_main = pd.read_csv(\n",
    "    mypaths[\"dataset\"], \n",
    "    names=preprocessing_params[\"columns_name\"], \n",
    "    dtype=preprocessing_params[\"columns_dtype\"],\n",
    "    header=None, \n",
    "    skip_blank_lines=True\n",
    ")\n",
    "\n",
    "composed_pre = transforms.Compose([\n",
    "    Rows(\n",
    "        preprocessing_params[\"columns_name\"], \n",
    "        preprocessing_params[\"bug_classes\"]\n",
    "    )\n",
    "])\n",
    "\n",
    "df_main = composed_pre(df_main)"
   ]
  },
  {
   "cell_type": "code",
   "execution_count": 12,
   "id": "40f4415c",
   "metadata": {
    "ExecuteTime": {
     "end_time": "2022-05-15T06:22:42.869093Z",
     "start_time": "2022-05-15T06:22:42.856098Z"
    }
   },
   "outputs": [],
   "source": [
    "texts = df_main[\"text\"].tolist()"
   ]
  },
  {
   "cell_type": "code",
   "execution_count": 13,
   "id": "cc1eb2d4",
   "metadata": {
    "ExecuteTime": {
     "end_time": "2022-05-15T06:22:42.885081Z",
     "start_time": "2022-05-15T06:22:42.873089Z"
    }
   },
   "outputs": [
    {
     "name": "stdout",
     "output_type": "stream",
     "text": [
      "3608\n"
     ]
    }
   ],
   "source": [
    "print(len(df_main))"
   ]
  },
  {
   "cell_type": "markdown",
   "id": "66b95114",
   "metadata": {},
   "source": [
    "# III. ClassDistribution\n",
    "In order to see whether dataset is `imbalance` or not."
   ]
  },
  {
   "cell_type": "code",
   "execution_count": 14,
   "id": "0d7020d9",
   "metadata": {
    "ExecuteTime": {
     "end_time": "2022-05-15T06:22:42.931055Z",
     "start_time": "2022-05-15T06:22:42.889079Z"
    }
   },
   "outputs": [],
   "source": [
    "class ClassDistribution():\n",
    "    def __init__(self, class_distributions):\n",
    "        self.num_samples = sum(class_distributions.values())\n",
    "        self.class_distributions = class_distributions # {\"class0\": num0, \"class1\": num1, ...}\n",
    "        self.ratios = {} # {\"1/0\": ratio1, \"1/2\": ratio2, ...}\n",
    "        self.percentage = {} # {\"class0\": perc0, \"class1\": perc1, ...}\n",
    "    \n",
    "    \n",
    "    def calc_ratios(self):\n",
    "        mydata_sorted = [(key, value) for key, value in sorted(self.class_distributions.items(), \n",
    "                                                               key=lambda item: item[1], reverse=True)]\n",
    "        num_classes = len(self.class_distributions)\n",
    "        for i in range(num_classes - 1):\n",
    "            for j in range(i + 1, num_classes):\n",
    "                tempKey1 = mydata_sorted[i][0]\n",
    "                tempKey2 = mydata_sorted[j][0]\n",
    "                mykey = tempKey1 + \"/\" + tempKey2\n",
    "                \n",
    "                tempValue1 = mydata_sorted[i][1]\n",
    "                tempValue2 = mydata_sorted[j][1]\n",
    "                self.ratios[mykey] = tempValue1 / tempValue2\n",
    "    \n",
    "    def calc_percentage(self):\n",
    "        for key, value in self.class_distributions.items():\n",
    "            tempPerc = (value * 100) / self.num_samples\n",
    "            tempPerc = round(tempPerc)\n",
    "            tempPerc = str(tempPerc) + \"%\"\n",
    "            self.percentage[key] = tempPerc\n",
    "    \n",
    "    \n",
    "    def plot_data(self, dataName):\n",
    "        myclasses = list(self.class_distributions.keys())\n",
    "        num_bugreports_perclass = list(self.class_distributions.values())\n",
    "\n",
    "        fig, ax = plt.subplots(1, figsize=(5, 3))\n",
    "        \n",
    "        ax.bar(myclasses, num_bugreports_perclass, color =\"maroon\", label=\"Bug Reports\", width=0.4)\n",
    "        ax.set_xlabel(\"classes\")\n",
    "        ax.set_ylabel(\"Number of bug reports\")\n",
    "        ax.legend()\n",
    "        ax.set_title(\"Number of bug reports PER classes [{}]\".format(dataName))\n",
    "\n",
    "        fig.tight_layout()"
   ]
  },
  {
   "cell_type": "markdown",
   "id": "115f6d7e",
   "metadata": {},
   "source": [
    "## obj"
   ]
  },
  {
   "cell_type": "code",
   "execution_count": 15,
   "id": "6e68a41d",
   "metadata": {
    "ExecuteTime": {
     "end_time": "2022-05-15T06:22:43.231872Z",
     "start_time": "2022-05-15T06:22:42.937079Z"
    }
   },
   "outputs": [
    {
     "name": "stdout",
     "output_type": "stream",
     "text": [
      "ratios     :  {'0/1': 3.6918075422626786}\n",
      "percentages:  {'0': '79%', '1': '21%'}\n"
     ]
    },
    {
     "data": {
      "image/png": "[encoded data removed]",
      "text/plain": [
       "<Figure size 360x216 with 1 Axes>"
      ]
     },
     "metadata": {
      "needs_background": "light"
     },
     "output_type": "display_data"
    }
   ],
   "source": [
    "cds = {} # {\"train\": {\"class0\": num0, \"class1\": num1, ...}, \"validation\": {...}, ...}\n",
    "# calculate class distribution for whole dataset\n",
    "temp = df_main.groupby(\"bug_class_2\").size()\n",
    "cd_whole = temp.to_dict()\n",
    "cd_whole = {str(key): value for key, value in cd_whole.items()}\n",
    "cds[\"whole\"] = cd_whole\n",
    "\n",
    "# plot class distribution for whole dataset\n",
    "wholeCD = ClassDistribution(cd_whole)\n",
    "wholeCD.calc_ratios()\n",
    "print(\"ratios     : \", wholeCD.ratios)\n",
    "wholeCD.calc_percentage()\n",
    "print(\"percentages: \", wholeCD.percentage)\n",
    "wholeCD.plot_data(\"whole\")"
   ]
  },
  {
   "cell_type": "markdown",
   "id": "ae9c6645",
   "metadata": {},
   "source": [
    "# I. Preprocessing"
   ]
  },
  {
   "cell_type": "code",
   "execution_count": 16,
   "id": "9035eea6",
   "metadata": {
    "ExecuteTime": {
     "end_time": "2022-05-15T06:22:43.279846Z",
     "start_time": "2022-05-15T06:22:43.235868Z"
    }
   },
   "outputs": [],
   "source": [
    "class Preprocessing():\n",
    "    \n",
    "    docMaxLen = 0 # max keywords allowed\n",
    "    w2vDic = {} # dic : {\"w1\": [0.1, 0.2, ...], \"w2\": [0.1, 0.3, ...], ...}\n",
    "    paddingVector = np.zeros(300, dtype=\"float32\")\n",
    "    bugRepTokens = [] # [[w1, w2, w3, ...], [w1, w2, ...], ...]\n",
    "    docMaxTokenNo_org = 0\n",
    "    docMaxTokenNo = 0 # max doc len after vectorization\n",
    "    vector_tfidf = [] # array of dictinaries: [{\"w1\": 0.1, \"w2\": 0.3, ...}, {}, ...]\n",
    "    vector_em = [] # array of matrix : [ [w1Vector, w2Vector], [], ...] \n",
    "    \n",
    "    \n",
    "    def __init__(self, docMaxLen):\n",
    "        self.docMaxLen = docMaxLen\n",
    "    \n",
    "    \n",
    "    def tokenize(self, texts):\n",
    "        stop_words = set(stopwords.words(\"english\"))\n",
    "        excludedTokens = {\"http\", \"url\", \"https\"}\n",
    "        self.my_deleted_bug = {}\n",
    "        # self.df.columns[0] : \"description\"\n",
    "        for i, doc in enumerate(texts):\n",
    "            thisTokens = []\n",
    "            doc = doc.lower()\n",
    "            for token in WordPunctTokenizer().tokenize(doc):\n",
    "                if (token in string.punctuation or token in stop_words or token in excludedTokens or \n",
    "                    (not re.findall(\"\\w\", token)) or re.findall(\"\\A[0-9]\", token)):\n",
    "                    continue\n",
    "                thisTokens.append(token)\n",
    "                self.w2vDic[token] = self.paddingVector\n",
    "            if len(thisTokens) <= 20000:\n",
    "                self.bugRepTokens.append(thisTokens)\n",
    "            else:\n",
    "                self.my_deleted_bug[i] = len(thisTokens)\n",
    "            if (len(thisTokens) > self.docMaxTokenNo_org):\n",
    "                self.docMaxTokenNo_org = len(thisTokens)\n",
    "    \n",
    "    \n",
    "    # tfidf of corpuses words\n",
    "    def load_tfidf(self, tfidf_path):\n",
    "        with open(tfidf_path, \"r\") as filehandle:\n",
    "            self.vector_tfidf = json.load(filehandle)\n",
    "    \n",
    "    \n",
    "    def loadW2V(self, w2vpath):\n",
    "         with open(w2vpath, \"rb\") as f:\n",
    "            header = f.readline()\n",
    "            model_vocab_size, model_vector_size = map(int, header.split())\n",
    "            binary_len = np.dtype(\"float32\").itemsize * model_vector_size\n",
    "            \n",
    "            for line_no in range(model_vocab_size):\n",
    "                word = []\n",
    "                while True:\n",
    "                    ch = f.read(1)\n",
    "                    if ch == b\" \":\n",
    "                        break\n",
    "                    if ch == b\"\":\n",
    "                        raise EOFError(\"unexpected end of input; is count incorrect or file otherwise damaged?\")\n",
    "                    if ch != b\"\\n\":\n",
    "                        word.append(ch)\n",
    "                word = b\"\".join(word).decode(\"utf-8\")\n",
    "                if (word in self.w2vDic.keys()):\n",
    "                    self.w2vDic[word] = np.frombuffer(f.read(binary_len), dtype=\"float32\")\n",
    "                else:\n",
    "                    f.seek(binary_len, 1)\n",
    "    \n",
    "    \n",
    "    def vectorize_w2V (self, keywordBased=False):\n",
    "        tempVec = []\n",
    "        x = slice(0, self.docMaxLen)\n",
    "        if keywordBased:\n",
    "            print(\"keywordBased\")\n",
    "            for doc_tokens, doc_tfidf in zip(self.bugRepTokens, self.vector_tfidf):\n",
    "                # docKeywords = [m for m in doc_tfidf.keys()][x]\n",
    "                docKeywords = list(doc_tfidf.keys())[x]\n",
    "                docAbs = self.getDocAbsrtract_(doc_tokens, docKeywords)\n",
    "                tempVec = [self.w2vDic[term] for term in docAbs]\n",
    "                self.vector_em.append(tempVec)\n",
    "                if (len(tempVec) > self.docMaxTokenNo):\n",
    "                    self.docMaxTokenNo = len(tempVec)\n",
    "        else:\n",
    "            print(\"NO keywordbased\")\n",
    "            for doc_tokens in self.bugRepTokens:\n",
    "                tempVec = [self.w2vDic[term] for term in doc_tokens]\n",
    "                self.vector_em.append(tempVec)\n",
    "                if (len(tempVec) > self.docMaxTokenNo):\n",
    "                    self.docMaxTokenNo = len(tempVec)\n",
    "    \n",
    "    \n",
    "    def getDocAbsrtract_(self, doc_tok, docKeywords):\n",
    "        return [t for t in doc_tok if t in docKeywords]\n",
    "    \n",
    "    \n",
    "    def padding(self):\n",
    "        for doc in self.vector_em:\n",
    "            if (len(doc) < self.docMaxTokenNo):\n",
    "                doc.extend([self.paddingVector] * (self.docMaxTokenNo - len(doc)))\n",
    "    \n",
    "    \n",
    "    def freeMem(self):\n",
    "        self.w2vDic = {}\n",
    "        self.bugRepTokens = []\n",
    "        self.vector_tfidf = []\n",
    "        self.vector_em = []"
   ]
  },
  {
   "cell_type": "markdown",
   "id": "c1066d59",
   "metadata": {},
   "source": [
    "## obj"
   ]
  },
  {
   "cell_type": "code",
   "execution_count": 17,
   "id": "476b4c9c",
   "metadata": {
    "ExecuteTime": {
     "end_time": "2022-05-15T06:23:46.665318Z",
     "start_time": "2022-05-15T06:22:43.283842Z"
    }
   },
   "outputs": [
    {
     "name": "stdout",
     "output_type": "stream",
     "text": [
      "loadW2V\n",
      "vectorize_w2V\n",
      "keywordBased\n"
     ]
    }
   ],
   "source": [
    "ds = Preprocessing(preprocessing_params[\"docMaxLen\"])\n",
    "ds.tokenize(texts)\n",
    "ds.load_tfidf(mypaths[\"tfidf\"][\"output_vec\"])\n",
    "\n",
    "# --- vectorize: w2v (keywordbased or no)\n",
    "print(\"loadW2V\")\n",
    "ds.loadW2V(mypaths[\"w2v\"][\"pre_trained_model\"])\n",
    "\n",
    "print(\"vectorize_w2V\")\n",
    "ds.vectorize_w2V(preprocessing_params[\"keyword_Based\"])\n",
    "\n",
    "ds.padding()"
   ]
  },
  {
   "cell_type": "code",
   "execution_count": 18,
   "id": "56748ef4",
   "metadata": {
    "ExecuteTime": {
     "end_time": "2022-05-15T06:23:46.696267Z",
     "start_time": "2022-05-15T06:23:46.665318Z"
    }
   },
   "outputs": [
    {
     "name": "stdout",
     "output_type": "stream",
     "text": [
      "Max sentence length org:  160706\n",
      "Max sentence length:      10883\n",
      "ds.df vocabulary:  19299\n",
      "3606\n",
      "10883\n",
      "3606\n"
     ]
    }
   ],
   "source": [
    "print(\"Max sentence length org: \", ds.docMaxTokenNo_org)\n",
    "print(\"Max sentence length:     \", ds.docMaxTokenNo)\n",
    "print(\"ds.df vocabulary: \", len(ds.w2vDic))\n",
    "print(len(ds.vector_em))\n",
    "print(len(ds.vector_em[0]))\n",
    "print(len(ds.bugRepTokens))"
   ]
  },
  {
   "cell_type": "code",
   "execution_count": 19,
   "id": "b767cf2a",
   "metadata": {
    "ExecuteTime": {
     "end_time": "2022-05-15T06:23:46.713256Z",
     "start_time": "2022-05-15T06:23:46.701272Z"
    }
   },
   "outputs": [
    {
     "name": "stdout",
     "output_type": "stream",
     "text": [
      "2\n"
     ]
    }
   ],
   "source": [
    "print(len(ds.my_deleted_bug))"
   ]
  },
  {
   "cell_type": "code",
   "execution_count": 20,
   "id": "8f9b1f2e",
   "metadata": {
    "ExecuteTime": {
     "end_time": "2022-05-15T06:23:46.745248Z",
     "start_time": "2022-05-15T06:23:46.718252Z"
    }
   },
   "outputs": [
    {
     "name": "stdout",
     "output_type": "stream",
     "text": [
      "{2671: 25257, 2831: 160706}\n"
     ]
    }
   ],
   "source": [
    "print(ds.my_deleted_bug)"
   ]
  },
  {
   "cell_type": "code",
   "execution_count": null,
   "id": "f4f02d2e",
   "metadata": {},
   "outputs": [],
   "source": []
  }
 ],
 "metadata": {
  "kernelspec": {
   "display_name": "paper-pytorch-cpu_jn",
   "language": "python",
   "name": "paper-pytorch-cpu_jn"
  },
  "language_info": {
   "codemirror_mode": {
    "name": "ipython",
    "version": 3
   },
   "file_extension": ".py",
   "mimetype": "text/x-python",
   "name": "python",
   "nbconvert_exporter": "python",
   "pygments_lexer": "ipython3",
   "version": "3.7.11"
  },
  "toc": {
   "base_numbering": 1,
   "nav_menu": {},
   "number_sections": false,
   "sideBar": true,
   "skip_h1_title": false,
   "title_cell": "Table of Contents",
   "title_sidebar": "Contents",
   "toc_cell": false,
   "toc_position": {
    "height": "calc(100% - 180px)",
    "left": "10px",
    "top": "150px",
    "width": "190px"
   },
   "toc_section_display": true,
   "toc_window_display": true
  }
 },
 "nbformat": 4,
 "nbformat_minor": 5
}
